{
 "cells": [
  {
   "cell_type": "markdown",
   "metadata": {},
   "source": [
    "Merge data"
   ]
  },
  {
   "cell_type": "code",
   "execution_count": 1,
   "metadata": {},
   "outputs": [
    {
     "name": "stdout",
     "output_type": "stream",
     "text": [
      "              ngay    gio     Open     High      Low    Close  Volume\n",
      "0       2024.01.02  00:01  1.10235  1.10239  1.10224  1.10224       0\n",
      "1       2024.01.02  00:02  1.10223  1.10227  1.10220  1.10220       0\n",
      "2       2024.01.02  00:03  1.10219  1.10226  1.10215  1.10224       0\n",
      "3       2024.01.02  00:04  1.10225  1.10225  1.10223  1.10225       0\n",
      "4       2024.01.02  00:05  1.10226  1.10229  1.10220  1.10220       0\n",
      "...            ...    ...      ...      ...      ...      ...     ...\n",
      "191401  2024.07.01  23:54  1.07316  1.07323  1.07316  1.07323       0\n",
      "191402  2024.07.01  23:55  1.07324  1.07324  1.07314  1.07315       0\n",
      "191403  2024.07.01  23:56  1.07314  1.07318  1.07314  1.07318       0\n",
      "191404  2024.07.01  23:57  1.07319  1.07321  1.07318  1.07319       0\n",
      "191405  2024.07.01  23:58  1.07320  1.07321  1.07319  1.07319       0\n",
      "\n",
      "[191406 rows x 7 columns]\n",
      "Tất cả các file đã được hợp nhất vào merged_data_files.csv\n"
     ]
    }
   ],
   "source": [
    "import pandas as pd\n",
    "import glob\n",
    "\n",
    "# Đường dẫn tới các file CSV\n",
    "path = r\"D:\\startup\\fx\\download\\EU\"\n",
    "all_files = glob.glob(path + \"/DAT*.csv\")\n",
    "# Danh sách để lưu dữ liệu từ mỗi file\n",
    "li = []\n",
    "for filename in all_files:\n",
    "    # Đọc file CSV\n",
    "    df = pd.read_csv(filename, index_col=None, header=0)\n",
    "    # Loại bỏ các hàng trống\n",
    "    df.dropna(how='all', inplace=True)\n",
    "    # Loại bỏ các cột trống\n",
    "    df.dropna(axis=1, how='all', inplace=True)\n",
    "    # Đặt tên cột cho dataframe\n",
    "    df.columns = ['ngay', 'gio', 'Open', 'High', 'Low', 'Close', 'Volume']\n",
    "    \n",
    "    li.append(df)\n",
    "# Hợp nhất tất cả các dataframe trong danh sách li\n",
    "merged_df = pd.concat(li, axis=0, ignore_index=True)\n",
    "print(merged_df)\n",
    "# Lưu dữ liệu hợp nhất vào file CSV mới\n",
    "output_file = \"merged_data_files.csv\"\n",
    "merged_df.to_csv(output_file, index=False)\n",
    "\n",
    "print(f\"Tất cả các file đã được hợp nhất vào {output_file}\")\n"
   ]
  }
 ],
 "metadata": {
  "kernelspec": {
   "display_name": "startup",
   "language": "python",
   "name": "python3"
  },
  "language_info": {
   "codemirror_mode": {
    "name": "ipython",
    "version": 3
   },
   "file_extension": ".py",
   "mimetype": "text/x-python",
   "name": "python",
   "nbconvert_exporter": "python",
   "pygments_lexer": "ipython3",
   "version": "3.12.3"
  }
 },
 "nbformat": 4,
 "nbformat_minor": 2
}
