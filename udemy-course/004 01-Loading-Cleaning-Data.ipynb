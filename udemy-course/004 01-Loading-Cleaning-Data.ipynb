{
 "cells": [
  {
   "cell_type": "code",
   "execution_count": 1,
   "id": "4b724424",
   "metadata": {},
   "outputs": [],
   "source": [
    "import pandas as pd\n",
    "df = pd.read_csv(\"BTCUSD_Candlestick_1_D_ASK_08.05.2017-16.10.2021.csv\")"
   ]
  },
  {
   "cell_type": "code",
   "execution_count": 2,
   "id": "ea102c47",
   "metadata": {},
   "outputs": [
    {
     "data": {
      "text/html": [
       "<div>\n",
       "<style scoped>\n",
       "    .dataframe tbody tr th:only-of-type {\n",
       "        vertical-align: middle;\n",
       "    }\n",
       "\n",
       "    .dataframe tbody tr th {\n",
       "        vertical-align: top;\n",
       "    }\n",
       "\n",
       "    .dataframe thead th {\n",
       "        text-align: right;\n",
       "    }\n",
       "</style>\n",
       "<table border=\"1\" class=\"dataframe\">\n",
       "  <thead>\n",
       "    <tr style=\"text-align: right;\">\n",
       "      <th></th>\n",
       "      <th>Gmt time</th>\n",
       "      <th>Open</th>\n",
       "      <th>High</th>\n",
       "      <th>Low</th>\n",
       "      <th>Close</th>\n",
       "      <th>Volume</th>\n",
       "    </tr>\n",
       "  </thead>\n",
       "  <tbody>\n",
       "    <tr>\n",
       "      <th>0</th>\n",
       "      <td>07.05.2017 21:00:00.000</td>\n",
       "      <td>1559</td>\n",
       "      <td>1681</td>\n",
       "      <td>1557</td>\n",
       "      <td>1658</td>\n",
       "      <td>1.872044e+06</td>\n",
       "    </tr>\n",
       "    <tr>\n",
       "      <th>1</th>\n",
       "      <td>08.05.2017 21:00:00.000</td>\n",
       "      <td>1658</td>\n",
       "      <td>1753</td>\n",
       "      <td>1626</td>\n",
       "      <td>1747</td>\n",
       "      <td>1.330136e+06</td>\n",
       "    </tr>\n",
       "    <tr>\n",
       "      <th>2</th>\n",
       "      <td>09.05.2017 21:00:00.000</td>\n",
       "      <td>1713</td>\n",
       "      <td>1769</td>\n",
       "      <td>1677</td>\n",
       "      <td>1752</td>\n",
       "      <td>1.916895e+06</td>\n",
       "    </tr>\n",
       "    <tr>\n",
       "      <th>3</th>\n",
       "      <td>10.05.2017 21:00:00.000</td>\n",
       "      <td>1784</td>\n",
       "      <td>1887</td>\n",
       "      <td>1777</td>\n",
       "      <td>1857</td>\n",
       "      <td>1.613521e+06</td>\n",
       "    </tr>\n",
       "    <tr>\n",
       "      <th>4</th>\n",
       "      <td>11.05.2017 21:00:00.000</td>\n",
       "      <td>1836</td>\n",
       "      <td>1836</td>\n",
       "      <td>1651</td>\n",
       "      <td>1692</td>\n",
       "      <td>2.550428e+06</td>\n",
       "    </tr>\n",
       "    <tr>\n",
       "      <th>...</th>\n",
       "      <td>...</td>\n",
       "      <td>...</td>\n",
       "      <td>...</td>\n",
       "      <td>...</td>\n",
       "      <td>...</td>\n",
       "      <td>...</td>\n",
       "    </tr>\n",
       "    <tr>\n",
       "      <th>1301</th>\n",
       "      <td>12.10.2021 21:00:00.000</td>\n",
       "      <td>55433</td>\n",
       "      <td>57543</td>\n",
       "      <td>54328</td>\n",
       "      <td>57047</td>\n",
       "      <td>2.013182e+03</td>\n",
       "    </tr>\n",
       "    <tr>\n",
       "      <th>1302</th>\n",
       "      <td>13.10.2021 21:00:00.000</td>\n",
       "      <td>57078</td>\n",
       "      <td>58568</td>\n",
       "      <td>56906</td>\n",
       "      <td>57505</td>\n",
       "      <td>2.001020e+03</td>\n",
       "    </tr>\n",
       "    <tr>\n",
       "      <th>1303</th>\n",
       "      <td>14.10.2021 21:00:00.000</td>\n",
       "      <td>57533</td>\n",
       "      <td>62922</td>\n",
       "      <td>56940</td>\n",
       "      <td>62587</td>\n",
       "      <td>2.235774e+03</td>\n",
       "    </tr>\n",
       "    <tr>\n",
       "      <th>1304</th>\n",
       "      <td>15.10.2021 21:00:00.000</td>\n",
       "      <td>62587</td>\n",
       "      <td>62608</td>\n",
       "      <td>60223</td>\n",
       "      <td>61077</td>\n",
       "      <td>1.943311e+03</td>\n",
       "    </tr>\n",
       "    <tr>\n",
       "      <th>1305</th>\n",
       "      <td>16.10.2021 21:00:00.000</td>\n",
       "      <td>61077</td>\n",
       "      <td>61498</td>\n",
       "      <td>59043</td>\n",
       "      <td>59467</td>\n",
       "      <td>2.443833e+03</td>\n",
       "    </tr>\n",
       "  </tbody>\n",
       "</table>\n",
       "<p>1306 rows × 6 columns</p>\n",
       "</div>"
      ],
      "text/plain": [
       "                     Gmt time   Open   High    Low  Close        Volume\n",
       "0     07.05.2017 21:00:00.000   1559   1681   1557   1658  1.872044e+06\n",
       "1     08.05.2017 21:00:00.000   1658   1753   1626   1747  1.330136e+06\n",
       "2     09.05.2017 21:00:00.000   1713   1769   1677   1752  1.916895e+06\n",
       "3     10.05.2017 21:00:00.000   1784   1887   1777   1857  1.613521e+06\n",
       "4     11.05.2017 21:00:00.000   1836   1836   1651   1692  2.550428e+06\n",
       "...                       ...    ...    ...    ...    ...           ...\n",
       "1301  12.10.2021 21:00:00.000  55433  57543  54328  57047  2.013182e+03\n",
       "1302  13.10.2021 21:00:00.000  57078  58568  56906  57505  2.001020e+03\n",
       "1303  14.10.2021 21:00:00.000  57533  62922  56940  62587  2.235774e+03\n",
       "1304  15.10.2021 21:00:00.000  62587  62608  60223  61077  1.943311e+03\n",
       "1305  16.10.2021 21:00:00.000  61077  61498  59043  59467  2.443833e+03\n",
       "\n",
       "[1306 rows x 6 columns]"
      ]
     },
     "execution_count": 2,
     "metadata": {},
     "output_type": "execute_result"
    }
   ],
   "source": [
    "df"
   ]
  },
  {
   "cell_type": "code",
   "execution_count": 3,
   "id": "3480f727",
   "metadata": {},
   "outputs": [
    {
     "data": {
      "text/html": [
       "<div>\n",
       "<style scoped>\n",
       "    .dataframe tbody tr th:only-of-type {\n",
       "        vertical-align: middle;\n",
       "    }\n",
       "\n",
       "    .dataframe tbody tr th {\n",
       "        vertical-align: top;\n",
       "    }\n",
       "\n",
       "    .dataframe thead th {\n",
       "        text-align: right;\n",
       "    }\n",
       "</style>\n",
       "<table border=\"1\" class=\"dataframe\">\n",
       "  <thead>\n",
       "    <tr style=\"text-align: right;\">\n",
       "      <th></th>\n",
       "      <th>Gmt time</th>\n",
       "      <th>Open</th>\n",
       "      <th>High</th>\n",
       "      <th>Low</th>\n",
       "      <th>Close</th>\n",
       "      <th>Volume</th>\n",
       "    </tr>\n",
       "  </thead>\n",
       "  <tbody>\n",
       "    <tr>\n",
       "      <th>0</th>\n",
       "      <td>07.05.2017 21:00:00.000</td>\n",
       "      <td>1559</td>\n",
       "      <td>1681</td>\n",
       "      <td>1557</td>\n",
       "      <td>1658</td>\n",
       "      <td>1.872044e+06</td>\n",
       "    </tr>\n",
       "    <tr>\n",
       "      <th>1</th>\n",
       "      <td>08.05.2017 21:00:00.000</td>\n",
       "      <td>1658</td>\n",
       "      <td>1753</td>\n",
       "      <td>1626</td>\n",
       "      <td>1747</td>\n",
       "      <td>1.330136e+06</td>\n",
       "    </tr>\n",
       "    <tr>\n",
       "      <th>2</th>\n",
       "      <td>09.05.2017 21:00:00.000</td>\n",
       "      <td>1713</td>\n",
       "      <td>1769</td>\n",
       "      <td>1677</td>\n",
       "      <td>1752</td>\n",
       "      <td>1.916895e+06</td>\n",
       "    </tr>\n",
       "    <tr>\n",
       "      <th>3</th>\n",
       "      <td>10.05.2017 21:00:00.000</td>\n",
       "      <td>1784</td>\n",
       "      <td>1887</td>\n",
       "      <td>1777</td>\n",
       "      <td>1857</td>\n",
       "      <td>1.613521e+06</td>\n",
       "    </tr>\n",
       "    <tr>\n",
       "      <th>4</th>\n",
       "      <td>11.05.2017 21:00:00.000</td>\n",
       "      <td>1836</td>\n",
       "      <td>1836</td>\n",
       "      <td>1651</td>\n",
       "      <td>1692</td>\n",
       "      <td>2.550428e+06</td>\n",
       "    </tr>\n",
       "    <tr>\n",
       "      <th>...</th>\n",
       "      <td>...</td>\n",
       "      <td>...</td>\n",
       "      <td>...</td>\n",
       "      <td>...</td>\n",
       "      <td>...</td>\n",
       "      <td>...</td>\n",
       "    </tr>\n",
       "    <tr>\n",
       "      <th>1301</th>\n",
       "      <td>12.10.2021 21:00:00.000</td>\n",
       "      <td>55433</td>\n",
       "      <td>57543</td>\n",
       "      <td>54328</td>\n",
       "      <td>57047</td>\n",
       "      <td>2.013182e+03</td>\n",
       "    </tr>\n",
       "    <tr>\n",
       "      <th>1302</th>\n",
       "      <td>13.10.2021 21:00:00.000</td>\n",
       "      <td>57078</td>\n",
       "      <td>58568</td>\n",
       "      <td>56906</td>\n",
       "      <td>57505</td>\n",
       "      <td>2.001020e+03</td>\n",
       "    </tr>\n",
       "    <tr>\n",
       "      <th>1303</th>\n",
       "      <td>14.10.2021 21:00:00.000</td>\n",
       "      <td>57533</td>\n",
       "      <td>62922</td>\n",
       "      <td>56940</td>\n",
       "      <td>62587</td>\n",
       "      <td>2.235774e+03</td>\n",
       "    </tr>\n",
       "    <tr>\n",
       "      <th>1304</th>\n",
       "      <td>15.10.2021 21:00:00.000</td>\n",
       "      <td>62587</td>\n",
       "      <td>62608</td>\n",
       "      <td>60223</td>\n",
       "      <td>61077</td>\n",
       "      <td>1.943311e+03</td>\n",
       "    </tr>\n",
       "    <tr>\n",
       "      <th>1305</th>\n",
       "      <td>16.10.2021 21:00:00.000</td>\n",
       "      <td>61077</td>\n",
       "      <td>61498</td>\n",
       "      <td>59043</td>\n",
       "      <td>59467</td>\n",
       "      <td>2.443833e+03</td>\n",
       "    </tr>\n",
       "  </tbody>\n",
       "</table>\n",
       "<p>1304 rows × 6 columns</p>\n",
       "</div>"
      ],
      "text/plain": [
       "                     Gmt time   Open   High    Low  Close        Volume\n",
       "0     07.05.2017 21:00:00.000   1559   1681   1557   1658  1.872044e+06\n",
       "1     08.05.2017 21:00:00.000   1658   1753   1626   1747  1.330136e+06\n",
       "2     09.05.2017 21:00:00.000   1713   1769   1677   1752  1.916895e+06\n",
       "3     10.05.2017 21:00:00.000   1784   1887   1777   1857  1.613521e+06\n",
       "4     11.05.2017 21:00:00.000   1836   1836   1651   1692  2.550428e+06\n",
       "...                       ...    ...    ...    ...    ...           ...\n",
       "1301  12.10.2021 21:00:00.000  55433  57543  54328  57047  2.013182e+03\n",
       "1302  13.10.2021 21:00:00.000  57078  58568  56906  57505  2.001020e+03\n",
       "1303  14.10.2021 21:00:00.000  57533  62922  56940  62587  2.235774e+03\n",
       "1304  15.10.2021 21:00:00.000  62587  62608  60223  61077  1.943311e+03\n",
       "1305  16.10.2021 21:00:00.000  61077  61498  59043  59467  2.443833e+03\n",
       "\n",
       "[1304 rows x 6 columns]"
      ]
     },
     "execution_count": 3,
     "metadata": {},
     "output_type": "execute_result"
    }
   ],
   "source": [
    "df = df[df[\"Volume\"]!=0]\n",
    "#df.tail()\n",
    "#df.head(10)\n",
    "df"
   ]
  },
  {
   "cell_type": "code",
   "execution_count": 9,
   "id": "9aba0795",
   "metadata": {},
   "outputs": [
    {
     "data": {
      "application/vnd.plotly.v1+json": {
       "config": {
        "plotlyServerURL": "https://plot.ly"
       },
       "data": [
        {
         "close": [
          5277,
          5359,
          5110,
          5104,
          5080,
          5241,
          5280,
          5366,
          5330,
          5426,
          5637,
          5494,
          5553,
          5157,
          5187,
          5295,
          5365,
          5464,
          5749,
          5753,
          5901,
          5957,
          6139,
          6351,
          7923,
          7780,
          8228,
          7730,
          7164,
          8063,
          8148,
          7892,
          7938,
          8177,
          8813,
          8746,
          8704,
          8518,
          8562,
          8614,
          7710,
          7791,
          7746,
          7962,
          8004,
          7986,
          8180,
          8318,
          8514,
          9330,
          9183,
          9222,
          9619,
          9996,
          10912,
          11425,
          12793,
          10733,
          12275,
          10536,
          10765,
          11437,
          11779,
          11092,
          12266,
          12460,
          11836,
          11206,
          11968,
          10881,
          9654,
          9747,
          10676,
          10587,
          10382,
          10201,
          9726,
          9930,
          9890,
          9571,
          9599,
          10083,
          10470,
          10463,
          11781,
          11704,
          11922,
          11652,
          11921,
          11473,
          10934,
          10221,
          10429,
          10453,
          10735,
          10763,
          10207,
          10235,
          10419,
          10320
         ],
         "high": [
          5370,
          5518,
          5401,
          5170,
          5247,
          5288,
          5323,
          5375,
          5411,
          5492,
          5679,
          5679,
          5568,
          5558,
          5246,
          5343,
          5413,
          5479,
          5853,
          5814,
          6025,
          5970,
          6152,
          6485,
          8030,
          8393,
          8322,
          8443,
          8016,
          8354,
          8194,
          8170,
          7938,
          8237,
          8998,
          8907,
          8814,
          9138,
          8572,
          8819,
          8622,
          7982,
          7928,
          8189,
          8139,
          8112,
          8328,
          8351,
          8525,
          9475,
          9532,
          9266,
          9656,
          10005,
          11302,
          11527,
          13910,
          13399,
          12455,
          11475,
          10973,
          11625,
          12111,
          11799,
          12355,
          12882,
          13246,
          12250,
          11976,
          11007,
          11133,
          10044,
          10769,
          10841,
          10739,
          10440,
          10203,
          10240,
          10003,
          9771,
          9812,
          10184,
          10548,
          10721,
          12005,
          12374,
          12200,
          12127,
          12106,
          11630,
          11497,
          10945,
          10449,
          10597,
          10888,
          11008,
          10900,
          10286,
          10525,
          10712
         ],
         "low": [
          5207,
          5217,
          5033,
          4973,
          5007,
          5066,
          5236,
          5264,
          5256,
          5296,
          5415,
          5434,
          5438,
          5047,
          5136,
          5160,
          5295,
          5347,
          5426,
          5623,
          5735,
          5720,
          5907,
          6135,
          6923,
          7631,
          7683,
          7730,
          6564,
          7637,
          7836,
          7755,
          7532,
          7857,
          8691,
          8623,
          8489,
          8462,
          8061,
          8389,
          7564,
          7505,
          7518,
          7744,
          7571,
          7773,
          7881,
          8111,
          8240,
          8978,
          8992,
          9010,
          9197,
          9523,
          10607,
          10908,
          11424,
          10361,
          10513,
          10040,
          9710,
          10653,
          11371,
          10833,
          11388,
          12171,
          11697,
          11036,
          11129,
          9920,
          9533,
          9139,
          9350,
          10174,
          10122,
          9922,
          9574,
          9717,
          9717,
          9173,
          9435,
          9579,
          9941,
          10389,
          10863,
          11593,
          11266,
          11532,
          11646,
          11274,
          10806,
          10088,
          9539,
          9802,
          10328,
          10622,
          9909,
          9818,
          10105,
          9965
         ],
         "open": [
          5313,
          5280,
          5359,
          5114,
          5144,
          5083,
          5245,
          5280,
          5368,
          5296,
          5429,
          5641,
          5498,
          5557,
          5185,
          5191,
          5296,
          5368,
          5465,
          5808,
          5754,
          5901,
          5960,
          6140,
          7209,
          7927,
          7781,
          8230,
          7728,
          8139,
          8069,
          8151,
          7892,
          7941,
          8702,
          8812,
          8748,
          8705,
          8518,
          8742,
          8616,
          7712,
          7791,
          7748,
          7771,
          8008,
          7989,
          8182,
          8321,
          8989,
          9330,
          9185,
          9225,
          9623,
          11084,
          10912,
          11425,
          12796,
          10733,
          11447,
          10536,
          10765,
          11437,
          11779,
          11567,
          12266,
          12462,
          11835,
          11207,
          10700,
          10881,
          9654,
          9747,
          10676,
          10566,
          10384,
          10201,
          9726,
          9930,
          9565,
          9571,
          9600,
          10083,
          10470,
          11013,
          11781,
          11704,
          11922,
          11652,
          11470,
          11473,
          10933,
          10221,
          10429,
          10410,
          10735,
          10763,
          10206,
          10237,
          10050
         ],
         "type": "candlestick",
         "x": [
          500,
          501,
          502,
          503,
          504,
          505,
          506,
          507,
          508,
          509,
          510,
          511,
          512,
          513,
          514,
          515,
          516,
          517,
          518,
          519,
          520,
          521,
          522,
          523,
          524,
          525,
          526,
          527,
          528,
          529,
          530,
          531,
          532,
          533,
          534,
          535,
          536,
          537,
          538,
          539,
          540,
          541,
          542,
          543,
          544,
          545,
          546,
          547,
          548,
          549,
          550,
          551,
          552,
          553,
          554,
          555,
          556,
          557,
          558,
          559,
          560,
          561,
          562,
          563,
          564,
          565,
          566,
          567,
          568,
          569,
          570,
          571,
          572,
          573,
          574,
          575,
          576,
          577,
          578,
          579,
          580,
          581,
          582,
          583,
          584,
          585,
          586,
          587,
          588,
          589,
          590,
          591,
          592,
          593,
          594,
          595,
          596,
          597,
          598,
          599
         ]
        }
       ],
       "layout": {
        "template": {
         "data": {
          "bar": [
           {
            "error_x": {
             "color": "#2a3f5f"
            },
            "error_y": {
             "color": "#2a3f5f"
            },
            "marker": {
             "line": {
              "color": "#E5ECF6",
              "width": 0.5
             },
             "pattern": {
              "fillmode": "overlay",
              "size": 10,
              "solidity": 0.2
             }
            },
            "type": "bar"
           }
          ],
          "barpolar": [
           {
            "marker": {
             "line": {
              "color": "#E5ECF6",
              "width": 0.5
             },
             "pattern": {
              "fillmode": "overlay",
              "size": 10,
              "solidity": 0.2
             }
            },
            "type": "barpolar"
           }
          ],
          "carpet": [
           {
            "aaxis": {
             "endlinecolor": "#2a3f5f",
             "gridcolor": "white",
             "linecolor": "white",
             "minorgridcolor": "white",
             "startlinecolor": "#2a3f5f"
            },
            "baxis": {
             "endlinecolor": "#2a3f5f",
             "gridcolor": "white",
             "linecolor": "white",
             "minorgridcolor": "white",
             "startlinecolor": "#2a3f5f"
            },
            "type": "carpet"
           }
          ],
          "choropleth": [
           {
            "colorbar": {
             "outlinewidth": 0,
             "ticks": ""
            },
            "type": "choropleth"
           }
          ],
          "contour": [
           {
            "colorbar": {
             "outlinewidth": 0,
             "ticks": ""
            },
            "colorscale": [
             [
              0,
              "#0d0887"
             ],
             [
              0.1111111111111111,
              "#46039f"
             ],
             [
              0.2222222222222222,
              "#7201a8"
             ],
             [
              0.3333333333333333,
              "#9c179e"
             ],
             [
              0.4444444444444444,
              "#bd3786"
             ],
             [
              0.5555555555555556,
              "#d8576b"
             ],
             [
              0.6666666666666666,
              "#ed7953"
             ],
             [
              0.7777777777777778,
              "#fb9f3a"
             ],
             [
              0.8888888888888888,
              "#fdca26"
             ],
             [
              1,
              "#f0f921"
             ]
            ],
            "type": "contour"
           }
          ],
          "contourcarpet": [
           {
            "colorbar": {
             "outlinewidth": 0,
             "ticks": ""
            },
            "type": "contourcarpet"
           }
          ],
          "heatmap": [
           {
            "colorbar": {
             "outlinewidth": 0,
             "ticks": ""
            },
            "colorscale": [
             [
              0,
              "#0d0887"
             ],
             [
              0.1111111111111111,
              "#46039f"
             ],
             [
              0.2222222222222222,
              "#7201a8"
             ],
             [
              0.3333333333333333,
              "#9c179e"
             ],
             [
              0.4444444444444444,
              "#bd3786"
             ],
             [
              0.5555555555555556,
              "#d8576b"
             ],
             [
              0.6666666666666666,
              "#ed7953"
             ],
             [
              0.7777777777777778,
              "#fb9f3a"
             ],
             [
              0.8888888888888888,
              "#fdca26"
             ],
             [
              1,
              "#f0f921"
             ]
            ],
            "type": "heatmap"
           }
          ],
          "heatmapgl": [
           {
            "colorbar": {
             "outlinewidth": 0,
             "ticks": ""
            },
            "colorscale": [
             [
              0,
              "#0d0887"
             ],
             [
              0.1111111111111111,
              "#46039f"
             ],
             [
              0.2222222222222222,
              "#7201a8"
             ],
             [
              0.3333333333333333,
              "#9c179e"
             ],
             [
              0.4444444444444444,
              "#bd3786"
             ],
             [
              0.5555555555555556,
              "#d8576b"
             ],
             [
              0.6666666666666666,
              "#ed7953"
             ],
             [
              0.7777777777777778,
              "#fb9f3a"
             ],
             [
              0.8888888888888888,
              "#fdca26"
             ],
             [
              1,
              "#f0f921"
             ]
            ],
            "type": "heatmapgl"
           }
          ],
          "histogram": [
           {
            "marker": {
             "pattern": {
              "fillmode": "overlay",
              "size": 10,
              "solidity": 0.2
             }
            },
            "type": "histogram"
           }
          ],
          "histogram2d": [
           {
            "colorbar": {
             "outlinewidth": 0,
             "ticks": ""
            },
            "colorscale": [
             [
              0,
              "#0d0887"
             ],
             [
              0.1111111111111111,
              "#46039f"
             ],
             [
              0.2222222222222222,
              "#7201a8"
             ],
             [
              0.3333333333333333,
              "#9c179e"
             ],
             [
              0.4444444444444444,
              "#bd3786"
             ],
             [
              0.5555555555555556,
              "#d8576b"
             ],
             [
              0.6666666666666666,
              "#ed7953"
             ],
             [
              0.7777777777777778,
              "#fb9f3a"
             ],
             [
              0.8888888888888888,
              "#fdca26"
             ],
             [
              1,
              "#f0f921"
             ]
            ],
            "type": "histogram2d"
           }
          ],
          "histogram2dcontour": [
           {
            "colorbar": {
             "outlinewidth": 0,
             "ticks": ""
            },
            "colorscale": [
             [
              0,
              "#0d0887"
             ],
             [
              0.1111111111111111,
              "#46039f"
             ],
             [
              0.2222222222222222,
              "#7201a8"
             ],
             [
              0.3333333333333333,
              "#9c179e"
             ],
             [
              0.4444444444444444,
              "#bd3786"
             ],
             [
              0.5555555555555556,
              "#d8576b"
             ],
             [
              0.6666666666666666,
              "#ed7953"
             ],
             [
              0.7777777777777778,
              "#fb9f3a"
             ],
             [
              0.8888888888888888,
              "#fdca26"
             ],
             [
              1,
              "#f0f921"
             ]
            ],
            "type": "histogram2dcontour"
           }
          ],
          "mesh3d": [
           {
            "colorbar": {
             "outlinewidth": 0,
             "ticks": ""
            },
            "type": "mesh3d"
           }
          ],
          "parcoords": [
           {
            "line": {
             "colorbar": {
              "outlinewidth": 0,
              "ticks": ""
             }
            },
            "type": "parcoords"
           }
          ],
          "pie": [
           {
            "automargin": true,
            "type": "pie"
           }
          ],
          "scatter": [
           {
            "fillpattern": {
             "fillmode": "overlay",
             "size": 10,
             "solidity": 0.2
            },
            "type": "scatter"
           }
          ],
          "scatter3d": [
           {
            "line": {
             "colorbar": {
              "outlinewidth": 0,
              "ticks": ""
             }
            },
            "marker": {
             "colorbar": {
              "outlinewidth": 0,
              "ticks": ""
             }
            },
            "type": "scatter3d"
           }
          ],
          "scattercarpet": [
           {
            "marker": {
             "colorbar": {
              "outlinewidth": 0,
              "ticks": ""
             }
            },
            "type": "scattercarpet"
           }
          ],
          "scattergeo": [
           {
            "marker": {
             "colorbar": {
              "outlinewidth": 0,
              "ticks": ""
             }
            },
            "type": "scattergeo"
           }
          ],
          "scattergl": [
           {
            "marker": {
             "colorbar": {
              "outlinewidth": 0,
              "ticks": ""
             }
            },
            "type": "scattergl"
           }
          ],
          "scattermapbox": [
           {
            "marker": {
             "colorbar": {
              "outlinewidth": 0,
              "ticks": ""
             }
            },
            "type": "scattermapbox"
           }
          ],
          "scatterpolar": [
           {
            "marker": {
             "colorbar": {
              "outlinewidth": 0,
              "ticks": ""
             }
            },
            "type": "scatterpolar"
           }
          ],
          "scatterpolargl": [
           {
            "marker": {
             "colorbar": {
              "outlinewidth": 0,
              "ticks": ""
             }
            },
            "type": "scatterpolargl"
           }
          ],
          "scatterternary": [
           {
            "marker": {
             "colorbar": {
              "outlinewidth": 0,
              "ticks": ""
             }
            },
            "type": "scatterternary"
           }
          ],
          "surface": [
           {
            "colorbar": {
             "outlinewidth": 0,
             "ticks": ""
            },
            "colorscale": [
             [
              0,
              "#0d0887"
             ],
             [
              0.1111111111111111,
              "#46039f"
             ],
             [
              0.2222222222222222,
              "#7201a8"
             ],
             [
              0.3333333333333333,
              "#9c179e"
             ],
             [
              0.4444444444444444,
              "#bd3786"
             ],
             [
              0.5555555555555556,
              "#d8576b"
             ],
             [
              0.6666666666666666,
              "#ed7953"
             ],
             [
              0.7777777777777778,
              "#fb9f3a"
             ],
             [
              0.8888888888888888,
              "#fdca26"
             ],
             [
              1,
              "#f0f921"
             ]
            ],
            "type": "surface"
           }
          ],
          "table": [
           {
            "cells": {
             "fill": {
              "color": "#EBF0F8"
             },
             "line": {
              "color": "white"
             }
            },
            "header": {
             "fill": {
              "color": "#C8D4E3"
             },
             "line": {
              "color": "white"
             }
            },
            "type": "table"
           }
          ]
         },
         "layout": {
          "annotationdefaults": {
           "arrowcolor": "#2a3f5f",
           "arrowhead": 0,
           "arrowwidth": 1
          },
          "autotypenumbers": "strict",
          "coloraxis": {
           "colorbar": {
            "outlinewidth": 0,
            "ticks": ""
           }
          },
          "colorscale": {
           "diverging": [
            [
             0,
             "#8e0152"
            ],
            [
             0.1,
             "#c51b7d"
            ],
            [
             0.2,
             "#de77ae"
            ],
            [
             0.3,
             "#f1b6da"
            ],
            [
             0.4,
             "#fde0ef"
            ],
            [
             0.5,
             "#f7f7f7"
            ],
            [
             0.6,
             "#e6f5d0"
            ],
            [
             0.7,
             "#b8e186"
            ],
            [
             0.8,
             "#7fbc41"
            ],
            [
             0.9,
             "#4d9221"
            ],
            [
             1,
             "#276419"
            ]
           ],
           "sequential": [
            [
             0,
             "#0d0887"
            ],
            [
             0.1111111111111111,
             "#46039f"
            ],
            [
             0.2222222222222222,
             "#7201a8"
            ],
            [
             0.3333333333333333,
             "#9c179e"
            ],
            [
             0.4444444444444444,
             "#bd3786"
            ],
            [
             0.5555555555555556,
             "#d8576b"
            ],
            [
             0.6666666666666666,
             "#ed7953"
            ],
            [
             0.7777777777777778,
             "#fb9f3a"
            ],
            [
             0.8888888888888888,
             "#fdca26"
            ],
            [
             1,
             "#f0f921"
            ]
           ],
           "sequentialminus": [
            [
             0,
             "#0d0887"
            ],
            [
             0.1111111111111111,
             "#46039f"
            ],
            [
             0.2222222222222222,
             "#7201a8"
            ],
            [
             0.3333333333333333,
             "#9c179e"
            ],
            [
             0.4444444444444444,
             "#bd3786"
            ],
            [
             0.5555555555555556,
             "#d8576b"
            ],
            [
             0.6666666666666666,
             "#ed7953"
            ],
            [
             0.7777777777777778,
             "#fb9f3a"
            ],
            [
             0.8888888888888888,
             "#fdca26"
            ],
            [
             1,
             "#f0f921"
            ]
           ]
          },
          "colorway": [
           "#636efa",
           "#EF553B",
           "#00cc96",
           "#ab63fa",
           "#FFA15A",
           "#19d3f3",
           "#FF6692",
           "#B6E880",
           "#FF97FF",
           "#FECB52"
          ],
          "font": {
           "color": "#2a3f5f"
          },
          "geo": {
           "bgcolor": "white",
           "lakecolor": "white",
           "landcolor": "#E5ECF6",
           "showlakes": true,
           "showland": true,
           "subunitcolor": "white"
          },
          "hoverlabel": {
           "align": "left"
          },
          "hovermode": "closest",
          "mapbox": {
           "style": "light"
          },
          "paper_bgcolor": "white",
          "plot_bgcolor": "#E5ECF6",
          "polar": {
           "angularaxis": {
            "gridcolor": "white",
            "linecolor": "white",
            "ticks": ""
           },
           "bgcolor": "#E5ECF6",
           "radialaxis": {
            "gridcolor": "white",
            "linecolor": "white",
            "ticks": ""
           }
          },
          "scene": {
           "xaxis": {
            "backgroundcolor": "#E5ECF6",
            "gridcolor": "white",
            "gridwidth": 2,
            "linecolor": "white",
            "showbackground": true,
            "ticks": "",
            "zerolinecolor": "white"
           },
           "yaxis": {
            "backgroundcolor": "#E5ECF6",
            "gridcolor": "white",
            "gridwidth": 2,
            "linecolor": "white",
            "showbackground": true,
            "ticks": "",
            "zerolinecolor": "white"
           },
           "zaxis": {
            "backgroundcolor": "#E5ECF6",
            "gridcolor": "white",
            "gridwidth": 2,
            "linecolor": "white",
            "showbackground": true,
            "ticks": "",
            "zerolinecolor": "white"
           }
          },
          "shapedefaults": {
           "line": {
            "color": "#2a3f5f"
           }
          },
          "ternary": {
           "aaxis": {
            "gridcolor": "white",
            "linecolor": "white",
            "ticks": ""
           },
           "baxis": {
            "gridcolor": "white",
            "linecolor": "white",
            "ticks": ""
           },
           "bgcolor": "#E5ECF6",
           "caxis": {
            "gridcolor": "white",
            "linecolor": "white",
            "ticks": ""
           }
          },
          "title": {
           "x": 0.05
          },
          "xaxis": {
           "automargin": true,
           "gridcolor": "white",
           "linecolor": "white",
           "ticks": "",
           "title": {
            "standoff": 15
           },
           "zerolinecolor": "white",
           "zerolinewidth": 2
          },
          "yaxis": {
           "automargin": true,
           "gridcolor": "white",
           "linecolor": "white",
           "ticks": "",
           "title": {
            "standoff": 15
           },
           "zerolinecolor": "white",
           "zerolinewidth": 2
          }
         }
        }
       }
      }
     },
     "metadata": {},
     "output_type": "display_data"
    }
   ],
   "source": [
    "dfpl = df[500:600]\n",
    "import plotly.graph_objects as go\n",
    "\n",
    "fig = go.Figure(data=[go.Candlestick(x=dfpl.index,\n",
    "                open=dfpl['Open'],\n",
    "                high=dfpl['High'],\n",
    "                low=dfpl['Low'],\n",
    "                close=dfpl['Close'])])\n",
    "\n",
    "fig.show()"
   ]
  },
  {
   "cell_type": "code",
   "execution_count": 10,
   "id": "3ffa69cf",
   "metadata": {},
   "outputs": [
    {
     "name": "stdout",
     "output_type": "stream",
     "text": [
      "[*********************100%%**********************]  1 of 1 completed\n"
     ]
    }
   ],
   "source": [
    "import yfinance as yf\n",
    "data = yf.download(tickers='BTC-USD', period='max', interval='1d')"
   ]
  },
  {
   "cell_type": "code",
   "execution_count": 11,
   "id": "00e05bb0",
   "metadata": {},
   "outputs": [
    {
     "data": {
      "text/html": [
       "<div>\n",
       "<style scoped>\n",
       "    .dataframe tbody tr th:only-of-type {\n",
       "        vertical-align: middle;\n",
       "    }\n",
       "\n",
       "    .dataframe tbody tr th {\n",
       "        vertical-align: top;\n",
       "    }\n",
       "\n",
       "    .dataframe thead th {\n",
       "        text-align: right;\n",
       "    }\n",
       "</style>\n",
       "<table border=\"1\" class=\"dataframe\">\n",
       "  <thead>\n",
       "    <tr style=\"text-align: right;\">\n",
       "      <th></th>\n",
       "      <th>Open</th>\n",
       "      <th>High</th>\n",
       "      <th>Low</th>\n",
       "      <th>Close</th>\n",
       "      <th>Adj Close</th>\n",
       "      <th>Volume</th>\n",
       "    </tr>\n",
       "    <tr>\n",
       "      <th>Date</th>\n",
       "      <th></th>\n",
       "      <th></th>\n",
       "      <th></th>\n",
       "      <th></th>\n",
       "      <th></th>\n",
       "      <th></th>\n",
       "    </tr>\n",
       "  </thead>\n",
       "  <tbody>\n",
       "    <tr>\n",
       "      <th>2023-09-21</th>\n",
       "      <td>27129.839844</td>\n",
       "      <td>27152.939453</td>\n",
       "      <td>26389.300781</td>\n",
       "      <td>26567.632812</td>\n",
       "      <td>26567.632812</td>\n",
       "      <td>13371443708</td>\n",
       "    </tr>\n",
       "    <tr>\n",
       "      <th>2023-09-22</th>\n",
       "      <td>26564.056641</td>\n",
       "      <td>26726.078125</td>\n",
       "      <td>26495.533203</td>\n",
       "      <td>26579.568359</td>\n",
       "      <td>26579.568359</td>\n",
       "      <td>10578746709</td>\n",
       "    </tr>\n",
       "    <tr>\n",
       "      <th>2023-09-23</th>\n",
       "      <td>26578.556641</td>\n",
       "      <td>26634.185547</td>\n",
       "      <td>26520.519531</td>\n",
       "      <td>26579.390625</td>\n",
       "      <td>26579.390625</td>\n",
       "      <td>7404700301</td>\n",
       "    </tr>\n",
       "    <tr>\n",
       "      <th>2023-09-24</th>\n",
       "      <td>26579.373047</td>\n",
       "      <td>26716.058594</td>\n",
       "      <td>26221.050781</td>\n",
       "      <td>26256.826172</td>\n",
       "      <td>26256.826172</td>\n",
       "      <td>8192867686</td>\n",
       "    </tr>\n",
       "    <tr>\n",
       "      <th>2023-09-25</th>\n",
       "      <td>26221.669922</td>\n",
       "      <td>26382.966797</td>\n",
       "      <td>26027.330078</td>\n",
       "      <td>26296.367188</td>\n",
       "      <td>26296.367188</td>\n",
       "      <td>13476076544</td>\n",
       "    </tr>\n",
       "  </tbody>\n",
       "</table>\n",
       "</div>"
      ],
      "text/plain": [
       "                    Open          High           Low         Close  \\\n",
       "Date                                                                 \n",
       "2023-09-21  27129.839844  27152.939453  26389.300781  26567.632812   \n",
       "2023-09-22  26564.056641  26726.078125  26495.533203  26579.568359   \n",
       "2023-09-23  26578.556641  26634.185547  26520.519531  26579.390625   \n",
       "2023-09-24  26579.373047  26716.058594  26221.050781  26256.826172   \n",
       "2023-09-25  26221.669922  26382.966797  26027.330078  26296.367188   \n",
       "\n",
       "               Adj Close       Volume  \n",
       "Date                                   \n",
       "2023-09-21  26567.632812  13371443708  \n",
       "2023-09-22  26579.568359  10578746709  \n",
       "2023-09-23  26579.390625   7404700301  \n",
       "2023-09-24  26256.826172   8192867686  \n",
       "2023-09-25  26296.367188  13476076544  "
      ]
     },
     "execution_count": 11,
     "metadata": {},
     "output_type": "execute_result"
    }
   ],
   "source": [
    "data.tail()"
   ]
  },
  {
   "cell_type": "code",
   "execution_count": 12,
   "id": "c488be7f",
   "metadata": {},
   "outputs": [
    {
     "data": {
      "application/vnd.plotly.v1+json": {
       "config": {
        "plotlyServerURL": "https://plot.ly"
       },
       "data": [
        {
         "close": [
          457.3340148925781,
          424.44000244140625,
          394.7959899902344,
          408.90399169921875,
          398.8210144042969,
          402.1520080566406,
          435.7909851074219,
          423.2049865722656,
          411.5740051269531,
          404.42498779296875,
          399.5199890136719,
          377.1809997558594,
          375.4670104980469,
          386.9440002441406,
          383.614990234375,
          375.0719909667969,
          359.5119934082031,
          328.8659973144531,
          320.510009765625,
          330.0790100097656,
          336.18701171875,
          352.94000244140625,
          365.0260009765625,
          361.56201171875,
          362.29901123046875,
          378.54901123046875,
          390.41400146484375,
          400.8699951171875,
          394.77301025390625,
          382.5559997558594,
          383.75799560546875,
          391.4419860839844,
          389.5459899902344,
          382.8450012207031,
          386.4750061035156,
          383.1579895019531,
          358.4169921875,
          358.3450012207031,
          347.27099609375,
          354.7040100097656,
          352.989013671875,
          357.6180114746094,
          335.59100341796875,
          345.30499267578125,
          338.3210144042969,
          325.7489929199219,
          325.8919982910156,
          327.5539855957031,
          330.49200439453125,
          339.4859924316406,
          349.2900085449219,
          342.4150085449219,
          345.4880065917969,
          363.2640075683594,
          366.92401123046875,
          367.69500732421875,
          423.5610046386719,
          420.7349853515625,
          397.8179931640625,
          376.13299560546875,
          387.8819885253906,
          387.4079895019531,
          375.197998046875,
          380.55499267578125,
          357.8399963378906,
          350.8479919433594,
          352.9200134277344,
          367.572998046875,
          376.9010009765625,
          375.3479919433594,
          368.3699951171875,
          369.6700134277344,
          376.4469909667969,
          375.4909973144531,
          378.0469970703125,
          379.2449951171875,
          381.31500244140625,
          375.010009765625,
          369.60400390625,
          376.85400390625,
          374.7850036621094,
          375.0950012207031,
          361.90899658203125,
          352.218994140625,
          346.364990234375,
          350.5060119628906,
          352.5419921875,
          347.3760070800781,
          351.6319885253906,
          345.3450012207031,
          327.06201171875,
          319.7760009765625,
          311.39599609375,
          317.8429870605469,
          329.95599365234375,
          320.8429870605469,
          331.885986328125,
          334.5719909667969,
          322.53399658203125,
          319.00799560546875,
          327.92401123046875,
          315.8630065917969,
          317.239013671875,
          312.6700134277344,
          310.73699951171875,
          320.1929931640625,
          314.2489929199219,
          315.0320129394531,
          281.0820007324219,
          264.19500732421875,
          274.4739990234375,
          286.1889953613281,
          294.3370056152344,
          283.3489990234375,
          290.4079895019531,
          274.7959899902344,
          265.6600036621094,
          267.7959899902344,
          225.86099243164062,
          178.10299682617188,
          209.843994140625,
          208.0970001220703,
          199.25999450683594,
          210.33900451660156,
          214.86099243164062,
          211.31500244140625,
          226.89700317382812,
          233.406005859375,
          232.87899780273438,
          247.8470001220703,
          253.71800231933594,
          273.4729919433594,
          263.4750061035156,
          233.9149932861328,
          233.51300048828125,
          226.4250030517578,
          217.46400451660156,
          226.9720001220703,
          238.22900390625,
          227.26800537109375,
          226.85299682617188,
          217.11099243164062,
          222.26600646972656,
          227.75399780273438,
          223.41200256347656,
          220.11000061035156,
          219.83900451660156,
          219.18499755859375,
          221.76400756835938,
          235.427001953125
         ],
         "high": [
          468.17401123046875,
          456.8599853515625,
          427.8349914550781,
          423.2959899902344,
          412.4259948730469,
          406.9159851074219,
          441.5570068359375,
          436.11199951171875,
          423.5199890136719,
          414.93798828125,
          406.62298583984375,
          401.0169982910156,
          385.21099853515625,
          390.97698974609375,
          391.3789978027344,
          385.49700927734375,
          377.69500732421875,
          364.48699951171875,
          341.8009948730469,
          345.1340026855469,
          339.24700927734375,
          354.364013671875,
          382.72601318359375,
          375.0669860839844,
          367.1910095214844,
          379.4330139160156,
          397.22601318359375,
          411.697998046875,
          402.22698974609375,
          398.8070068359375,
          385.4779968261719,
          395.1579895019531,
          393.9389953613281,
          390.0840148925781,
          392.64599609375,
          388.57598876953125,
          385.0480041503906,
          364.3450012207031,
          359.8609924316406,
          359.22100830078125,
          358.6319885253906,
          359.9840087890625,
          357.8330078125,
          350.9129943847656,
          348.0450134277344,
          340.52899169921875,
          329.04998779296875,
          334.00201416015625,
          331.7669982910156,
          343.3689880371094,
          352.96600341796875,
          352.73199462890625,
          347.0320129394531,
          363.6260070800781,
          374.8160095214844,
          371.30999755859375,
          429.7179870605469,
          457.0929870605469,
          419.25201416015625,
          405.52801513671875,
          390.79901123046875,
          410.1990051269531,
          392.4020080566406,
          386.4809875488281,
          382.0249938964844,
          357.8789978027344,
          364.84100341796875,
          370.8450012207031,
          387.2090148925781,
          394.70098876953125,
          377.697998046875,
          373.99200439453125,
          382.8380126953125,
          387.60101318359375,
          382.5270080566406,
          383.6619873046875,
          384.0379943847656,
          383.0260009765625,
          378.6549987792969,
          379.1919860839844,
          378.447998046875,
          376.2919921875,
          376.02899169921875,
          363.0669860839844,
          352.3840026855469,
          361.35699462890625,
          352.9830017089844,
          352.3810119628906,
          353.3160095214844,
          351.81500244140625,
          345.8590087890625,
          333.9540100097656,
          323.7090148925781,
          318.5329895019531,
          330.32501220703125,
          329.6289978027344,
          334.11700439453125,
          336.2869873046875,
          334.7409973144531,
          322.6700134277344,
          331.42401123046875,
          328.9110107421875,
          320.02801513671875,
          320.2669982910156,
          314.8089904785156,
          320.1929931640625,
          320.43499755859375,
          315.8389892578125,
          315.1499938964844,
          287.2300109863281,
          278.34100341796875,
          287.5530090332031,
          298.7539978027344,
          294.135009765625,
          291.114013671875,
          288.12701416015625,
          279.63800048828125,
          272.2030029296875,
          268.2770080566406,
          223.8939971923828,
          229.06700134277344,
          221.59100341796875,
          211.7310028076172,
          218.69500732421875,
          216.72799682617188,
          215.24099731445312,
          227.78799438476562,
          237.0189971923828,
          234.84500122070312,
          248.2100067138672,
          255.07400512695312,
          309.3840026855469,
          275.4800109863281,
          266.5350036621094,
          238.70599365234375,
          242.8509979248047,
          233.50399780273438,
          231.57400512695312,
          242.1750030517578,
          245.95700073242188,
          230.05799865722656,
          239.40499877929688,
          230.50999450683594,
          230.2989959716797,
          229.43800354003906,
          223.9770050048828,
          221.8070068359375,
          223.406005859375,
          222.19900512695312,
          240.25900268554688
         ],
         "low": [
          452.4219970703125,
          413.10400390625,
          384.5320129394531,
          389.88299560546875,
          393.1809997558594,
          397.1300048828125,
          396.1969909667969,
          421.1319885253906,
          409.4679870605469,
          400.0090026855469,
          397.37200927734375,
          374.3320007324219,
          372.239990234375,
          373.4429931640625,
          380.7799987792969,
          372.9460144042969,
          357.8590087890625,
          325.885986328125,
          289.2959899902344,
          302.55999755859375,
          320.48199462890625,
          327.18798828125,
          347.68701171875,
          352.9630126953125,
          355.95098876953125,
          356.1440124511719,
          368.8970031738281,
          391.3240051269531,
          388.7659912109375,
          373.07000732421875,
          375.3890075683594,
          378.97100830078125,
          386.4570007324219,
          378.25201416015625,
          380.8340148925781,
          382.2489929199219,
          356.4469909667969,
          353.30499267578125,
          342.87701416015625,
          343.9309997558594,
          349.8089904785156,
          352.6789855957031,
          335.3429870605469,
          335.0719909667969,
          337.1419982910156,
          321.05499267578125,
          320.6260070800781,
          325.4809875488281,
          325.0769958496094,
          330.6830139160156,
          338.42401123046875,
          341.7760009765625,
          342.15399169921875,
          344.2550048828125,
          357.5610046386719,
          363.7349853515625,
          367.9849853515625,
          401.12298583984375,
          384.78900146484375,
          371.00799560546875,
          374.60198974609375,
          377.50201416015625,
          371.11700439453125,
          373.89599609375,
          356.781005859375,
          344.11199951171875,
          350.87799072265625,
          353.17498779296875,
          366.66900634765625,
          374.78399658203125,
          365.8160095214844,
          368.2820129394531,
          358.4549865722656,
          372.1449890136719,
          373.3089904785156,
          376.66900634765625,
          377.8630065917969,
          374.34600830078125,
          367.7590026855469,
          365.7560119628906,
          370.94500732421875,
          373.2749938964844,
          361.885986328125,
          344.95098876953125,
          346.364990234375,
          338.76300048828125,
          349.2909851074219,
          346.5880126953125,
          345.4179992675781,
          344.9339904785156,
          327.06201171875,
          315.1520080566406,
          304.23199462890625,
          306.7690124511719,
          316.04400634765625,
          318.90301513671875,
          320.42498779296875,
          329.60198974609375,
          321.35699462890625,
          316.9580078125,
          316.62701416015625,
          312.6300048828125,
          311.0780029296875,
          312.3070068359375,
          309.37298583984375,
          310.21099853515625,
          314.00299072265625,
          313.56500244140625,
          281.0820007324219,
          257.61199951171875,
          265.0840148925781,
          272.6960144042969,
          283.0790100097656,
          282.17498779296875,
          280.5329895019531,
          273.96600341796875,
          265.03900146484375,
          265.20001220703125,
          219.906005859375,
          171.50999450683594,
          176.89700317382812,
          199.77099609375,
          194.875,
          194.50599670410156,
          207.3179931640625,
          205.1529998779297,
          211.21200561523438,
          226.4340057373047,
          225.1959991455078,
          230.02200317382812,
          243.88999938964844,
          254.07899475097656,
          250.6529998779297,
          227.04600524902344,
          220.71200561523438,
          225.83900451660156,
          216.3090057373047,
          212.01499938964844,
          222.65899658203125,
          224.48300170898438,
          221.11300659179688,
          214.72500610351562,
          216.23199462890625,
          222.60699462890625,
          221.07699584960938,
          217.0189971923828,
          215.33200073242188,
          218.07400512695312,
          217.61399841308594,
          221.26199340820312
         ],
         "open": [
          465.864013671875,
          456.8599853515625,
          424.1029968261719,
          394.6730041503906,
          408.0849914550781,
          399.1000061035156,
          402.0920104980469,
          435.7510070800781,
          423.156005859375,
          411.4289855957031,
          403.5559997558594,
          399.47100830078125,
          376.9280090332031,
          376.0880126953125,
          387.427001953125,
          383.9880065917969,
          375.1809997558594,
          359.8919982910156,
          328.9159851074219,
          320.3890075683594,
          330.5840148925781,
          336.1159973144531,
          352.74798583984375,
          364.68701171875,
          361.36199951171875,
          362.6059875488281,
          377.9209899902344,
          391.6919860839844,
          400.9549865722656,
          394.51800537109375,
          382.7560119628906,
          383.97601318359375,
          391.2539978027344,
          389.2309875488281,
          382.4209899902344,
          386.1180114746094,
          382.9620056152344,
          358.59100341796875,
          358.6109924316406,
          347.48699951171875,
          354.7770080566406,
          353.2149963378906,
          357.0889892578125,
          335.7090148925781,
          345.0090026855469,
          338.6499938964844,
          326.07501220703125,
          325.5690002441406,
          327.1610107421875,
          330.6830139160156,
          339.4580078125,
          349.8179931640625,
          342.15399169921875,
          345.3760070800781,
          362.2650146484375,
          365.85699462890625,
          367.9849853515625,
          427.27301025390625,
          418.4169921875,
          399.6499938964844,
          374.7300109863281,
          388.3489990234375,
          387.7850036621094,
          373.89599609375,
          380.3070068359375,
          357.8789978027344,
          351.60400390625,
          353.17498779296875,
          366.947998046875,
          376.885986328125,
          376.0190124511719,
          370.50201416015625,
          369.3739929199219,
          376.1520080566406,
          375.510009765625,
          378.2489929199219,
          379.25,
          381.72198486328125,
          375.7179870605469,
          369.4419860839844,
          376.7569885253906,
          374.83599853515625,
          374.9649963378906,
          361.8949890136719,
          352.2049865722656,
          344.3399963378906,
          350.8330078125,
          352.3810119628906,
          346.72698974609375,
          351.3609924316406,
          345.6730041503906,
          326.8550109863281,
          319.7850036621094,
          311.1789855957031,
          317.6189880371094,
          329.5429992675781,
          321.0679931640625,
          332.0169982910156,
          334.385009765625,
          322.2860107421875,
          319.1520080566406,
          327.5830078125,
          316.1600036621094,
          317.70098876953125,
          312.718994140625,
          310.91400146484375,
          320.43499755859375,
          314.0790100097656,
          314.84600830078125,
          281.14599609375,
          265.0840148925781,
          274.6109924316406,
          286.0769958496094,
          294.135009765625,
          282.38299560546875,
          287.3030090332031,
          274.6080017089844,
          266.14599609375,
          267.3940124511719,
          223.8939971923828,
          176.89700317382812,
          209.07000732421875,
          207.83399963378906,
          200.0500030517578,
          211.4709930419922,
          212.90699768066406,
          211.3780059814453,
          227.32200622558594,
          233.51699829101562,
          232.6999969482422,
          247.3520050048828,
          254.07899475097656,
          273.1669921875,
          263.35101318359375,
          233.34800720214844,
          232.77200317382812,
          226.4409942626953,
          216.86700439453125,
          226.49099731445312,
          237.45399475097656,
          227.51100158691406,
          227.6649932861328,
          216.92300415039062,
          222.63299560546875,
          227.6929931640625,
          223.38900756835938,
          220.28199768066406,
          219.73199462890625,
          219.20799255371094,
          221.968994140625
         ],
         "type": "candlestick",
         "x": [
          0,
          1,
          2,
          3,
          4,
          5,
          6,
          7,
          8,
          9,
          10,
          11,
          12,
          13,
          14,
          15,
          16,
          17,
          18,
          19,
          20,
          21,
          22,
          23,
          24,
          25,
          26,
          27,
          28,
          29,
          30,
          31,
          32,
          33,
          34,
          35,
          36,
          37,
          38,
          39,
          40,
          41,
          42,
          43,
          44,
          45,
          46,
          47,
          48,
          49,
          50,
          51,
          52,
          53,
          54,
          55,
          56,
          57,
          58,
          59,
          60,
          61,
          62,
          63,
          64,
          65,
          66,
          67,
          68,
          69,
          70,
          71,
          72,
          73,
          74,
          75,
          76,
          77,
          78,
          79,
          80,
          81,
          82,
          83,
          84,
          85,
          86,
          87,
          88,
          89,
          90,
          91,
          92,
          93,
          94,
          95,
          96,
          97,
          98,
          99,
          100,
          101,
          102,
          103,
          104,
          105,
          106,
          107,
          108,
          109,
          110,
          111,
          112,
          113,
          114,
          115,
          116,
          117,
          118,
          119,
          120,
          121,
          122,
          123,
          124,
          125,
          126,
          127,
          128,
          129,
          130,
          131,
          132,
          133,
          134,
          135,
          136,
          137,
          138,
          139,
          140,
          141,
          142,
          143,
          144,
          145,
          146,
          147,
          148,
          149
         ]
        }
       ],
       "layout": {
        "template": {
         "data": {
          "bar": [
           {
            "error_x": {
             "color": "#2a3f5f"
            },
            "error_y": {
             "color": "#2a3f5f"
            },
            "marker": {
             "line": {
              "color": "#E5ECF6",
              "width": 0.5
             },
             "pattern": {
              "fillmode": "overlay",
              "size": 10,
              "solidity": 0.2
             }
            },
            "type": "bar"
           }
          ],
          "barpolar": [
           {
            "marker": {
             "line": {
              "color": "#E5ECF6",
              "width": 0.5
             },
             "pattern": {
              "fillmode": "overlay",
              "size": 10,
              "solidity": 0.2
             }
            },
            "type": "barpolar"
           }
          ],
          "carpet": [
           {
            "aaxis": {
             "endlinecolor": "#2a3f5f",
             "gridcolor": "white",
             "linecolor": "white",
             "minorgridcolor": "white",
             "startlinecolor": "#2a3f5f"
            },
            "baxis": {
             "endlinecolor": "#2a3f5f",
             "gridcolor": "white",
             "linecolor": "white",
             "minorgridcolor": "white",
             "startlinecolor": "#2a3f5f"
            },
            "type": "carpet"
           }
          ],
          "choropleth": [
           {
            "colorbar": {
             "outlinewidth": 0,
             "ticks": ""
            },
            "type": "choropleth"
           }
          ],
          "contour": [
           {
            "colorbar": {
             "outlinewidth": 0,
             "ticks": ""
            },
            "colorscale": [
             [
              0,
              "#0d0887"
             ],
             [
              0.1111111111111111,
              "#46039f"
             ],
             [
              0.2222222222222222,
              "#7201a8"
             ],
             [
              0.3333333333333333,
              "#9c179e"
             ],
             [
              0.4444444444444444,
              "#bd3786"
             ],
             [
              0.5555555555555556,
              "#d8576b"
             ],
             [
              0.6666666666666666,
              "#ed7953"
             ],
             [
              0.7777777777777778,
              "#fb9f3a"
             ],
             [
              0.8888888888888888,
              "#fdca26"
             ],
             [
              1,
              "#f0f921"
             ]
            ],
            "type": "contour"
           }
          ],
          "contourcarpet": [
           {
            "colorbar": {
             "outlinewidth": 0,
             "ticks": ""
            },
            "type": "contourcarpet"
           }
          ],
          "heatmap": [
           {
            "colorbar": {
             "outlinewidth": 0,
             "ticks": ""
            },
            "colorscale": [
             [
              0,
              "#0d0887"
             ],
             [
              0.1111111111111111,
              "#46039f"
             ],
             [
              0.2222222222222222,
              "#7201a8"
             ],
             [
              0.3333333333333333,
              "#9c179e"
             ],
             [
              0.4444444444444444,
              "#bd3786"
             ],
             [
              0.5555555555555556,
              "#d8576b"
             ],
             [
              0.6666666666666666,
              "#ed7953"
             ],
             [
              0.7777777777777778,
              "#fb9f3a"
             ],
             [
              0.8888888888888888,
              "#fdca26"
             ],
             [
              1,
              "#f0f921"
             ]
            ],
            "type": "heatmap"
           }
          ],
          "heatmapgl": [
           {
            "colorbar": {
             "outlinewidth": 0,
             "ticks": ""
            },
            "colorscale": [
             [
              0,
              "#0d0887"
             ],
             [
              0.1111111111111111,
              "#46039f"
             ],
             [
              0.2222222222222222,
              "#7201a8"
             ],
             [
              0.3333333333333333,
              "#9c179e"
             ],
             [
              0.4444444444444444,
              "#bd3786"
             ],
             [
              0.5555555555555556,
              "#d8576b"
             ],
             [
              0.6666666666666666,
              "#ed7953"
             ],
             [
              0.7777777777777778,
              "#fb9f3a"
             ],
             [
              0.8888888888888888,
              "#fdca26"
             ],
             [
              1,
              "#f0f921"
             ]
            ],
            "type": "heatmapgl"
           }
          ],
          "histogram": [
           {
            "marker": {
             "pattern": {
              "fillmode": "overlay",
              "size": 10,
              "solidity": 0.2
             }
            },
            "type": "histogram"
           }
          ],
          "histogram2d": [
           {
            "colorbar": {
             "outlinewidth": 0,
             "ticks": ""
            },
            "colorscale": [
             [
              0,
              "#0d0887"
             ],
             [
              0.1111111111111111,
              "#46039f"
             ],
             [
              0.2222222222222222,
              "#7201a8"
             ],
             [
              0.3333333333333333,
              "#9c179e"
             ],
             [
              0.4444444444444444,
              "#bd3786"
             ],
             [
              0.5555555555555556,
              "#d8576b"
             ],
             [
              0.6666666666666666,
              "#ed7953"
             ],
             [
              0.7777777777777778,
              "#fb9f3a"
             ],
             [
              0.8888888888888888,
              "#fdca26"
             ],
             [
              1,
              "#f0f921"
             ]
            ],
            "type": "histogram2d"
           }
          ],
          "histogram2dcontour": [
           {
            "colorbar": {
             "outlinewidth": 0,
             "ticks": ""
            },
            "colorscale": [
             [
              0,
              "#0d0887"
             ],
             [
              0.1111111111111111,
              "#46039f"
             ],
             [
              0.2222222222222222,
              "#7201a8"
             ],
             [
              0.3333333333333333,
              "#9c179e"
             ],
             [
              0.4444444444444444,
              "#bd3786"
             ],
             [
              0.5555555555555556,
              "#d8576b"
             ],
             [
              0.6666666666666666,
              "#ed7953"
             ],
             [
              0.7777777777777778,
              "#fb9f3a"
             ],
             [
              0.8888888888888888,
              "#fdca26"
             ],
             [
              1,
              "#f0f921"
             ]
            ],
            "type": "histogram2dcontour"
           }
          ],
          "mesh3d": [
           {
            "colorbar": {
             "outlinewidth": 0,
             "ticks": ""
            },
            "type": "mesh3d"
           }
          ],
          "parcoords": [
           {
            "line": {
             "colorbar": {
              "outlinewidth": 0,
              "ticks": ""
             }
            },
            "type": "parcoords"
           }
          ],
          "pie": [
           {
            "automargin": true,
            "type": "pie"
           }
          ],
          "scatter": [
           {
            "fillpattern": {
             "fillmode": "overlay",
             "size": 10,
             "solidity": 0.2
            },
            "type": "scatter"
           }
          ],
          "scatter3d": [
           {
            "line": {
             "colorbar": {
              "outlinewidth": 0,
              "ticks": ""
             }
            },
            "marker": {
             "colorbar": {
              "outlinewidth": 0,
              "ticks": ""
             }
            },
            "type": "scatter3d"
           }
          ],
          "scattercarpet": [
           {
            "marker": {
             "colorbar": {
              "outlinewidth": 0,
              "ticks": ""
             }
            },
            "type": "scattercarpet"
           }
          ],
          "scattergeo": [
           {
            "marker": {
             "colorbar": {
              "outlinewidth": 0,
              "ticks": ""
             }
            },
            "type": "scattergeo"
           }
          ],
          "scattergl": [
           {
            "marker": {
             "colorbar": {
              "outlinewidth": 0,
              "ticks": ""
             }
            },
            "type": "scattergl"
           }
          ],
          "scattermapbox": [
           {
            "marker": {
             "colorbar": {
              "outlinewidth": 0,
              "ticks": ""
             }
            },
            "type": "scattermapbox"
           }
          ],
          "scatterpolar": [
           {
            "marker": {
             "colorbar": {
              "outlinewidth": 0,
              "ticks": ""
             }
            },
            "type": "scatterpolar"
           }
          ],
          "scatterpolargl": [
           {
            "marker": {
             "colorbar": {
              "outlinewidth": 0,
              "ticks": ""
             }
            },
            "type": "scatterpolargl"
           }
          ],
          "scatterternary": [
           {
            "marker": {
             "colorbar": {
              "outlinewidth": 0,
              "ticks": ""
             }
            },
            "type": "scatterternary"
           }
          ],
          "surface": [
           {
            "colorbar": {
             "outlinewidth": 0,
             "ticks": ""
            },
            "colorscale": [
             [
              0,
              "#0d0887"
             ],
             [
              0.1111111111111111,
              "#46039f"
             ],
             [
              0.2222222222222222,
              "#7201a8"
             ],
             [
              0.3333333333333333,
              "#9c179e"
             ],
             [
              0.4444444444444444,
              "#bd3786"
             ],
             [
              0.5555555555555556,
              "#d8576b"
             ],
             [
              0.6666666666666666,
              "#ed7953"
             ],
             [
              0.7777777777777778,
              "#fb9f3a"
             ],
             [
              0.8888888888888888,
              "#fdca26"
             ],
             [
              1,
              "#f0f921"
             ]
            ],
            "type": "surface"
           }
          ],
          "table": [
           {
            "cells": {
             "fill": {
              "color": "#EBF0F8"
             },
             "line": {
              "color": "white"
             }
            },
            "header": {
             "fill": {
              "color": "#C8D4E3"
             },
             "line": {
              "color": "white"
             }
            },
            "type": "table"
           }
          ]
         },
         "layout": {
          "annotationdefaults": {
           "arrowcolor": "#2a3f5f",
           "arrowhead": 0,
           "arrowwidth": 1
          },
          "autotypenumbers": "strict",
          "coloraxis": {
           "colorbar": {
            "outlinewidth": 0,
            "ticks": ""
           }
          },
          "colorscale": {
           "diverging": [
            [
             0,
             "#8e0152"
            ],
            [
             0.1,
             "#c51b7d"
            ],
            [
             0.2,
             "#de77ae"
            ],
            [
             0.3,
             "#f1b6da"
            ],
            [
             0.4,
             "#fde0ef"
            ],
            [
             0.5,
             "#f7f7f7"
            ],
            [
             0.6,
             "#e6f5d0"
            ],
            [
             0.7,
             "#b8e186"
            ],
            [
             0.8,
             "#7fbc41"
            ],
            [
             0.9,
             "#4d9221"
            ],
            [
             1,
             "#276419"
            ]
           ],
           "sequential": [
            [
             0,
             "#0d0887"
            ],
            [
             0.1111111111111111,
             "#46039f"
            ],
            [
             0.2222222222222222,
             "#7201a8"
            ],
            [
             0.3333333333333333,
             "#9c179e"
            ],
            [
             0.4444444444444444,
             "#bd3786"
            ],
            [
             0.5555555555555556,
             "#d8576b"
            ],
            [
             0.6666666666666666,
             "#ed7953"
            ],
            [
             0.7777777777777778,
             "#fb9f3a"
            ],
            [
             0.8888888888888888,
             "#fdca26"
            ],
            [
             1,
             "#f0f921"
            ]
           ],
           "sequentialminus": [
            [
             0,
             "#0d0887"
            ],
            [
             0.1111111111111111,
             "#46039f"
            ],
            [
             0.2222222222222222,
             "#7201a8"
            ],
            [
             0.3333333333333333,
             "#9c179e"
            ],
            [
             0.4444444444444444,
             "#bd3786"
            ],
            [
             0.5555555555555556,
             "#d8576b"
            ],
            [
             0.6666666666666666,
             "#ed7953"
            ],
            [
             0.7777777777777778,
             "#fb9f3a"
            ],
            [
             0.8888888888888888,
             "#fdca26"
            ],
            [
             1,
             "#f0f921"
            ]
           ]
          },
          "colorway": [
           "#636efa",
           "#EF553B",
           "#00cc96",
           "#ab63fa",
           "#FFA15A",
           "#19d3f3",
           "#FF6692",
           "#B6E880",
           "#FF97FF",
           "#FECB52"
          ],
          "font": {
           "color": "#2a3f5f"
          },
          "geo": {
           "bgcolor": "white",
           "lakecolor": "white",
           "landcolor": "#E5ECF6",
           "showlakes": true,
           "showland": true,
           "subunitcolor": "white"
          },
          "hoverlabel": {
           "align": "left"
          },
          "hovermode": "closest",
          "mapbox": {
           "style": "light"
          },
          "paper_bgcolor": "white",
          "plot_bgcolor": "#E5ECF6",
          "polar": {
           "angularaxis": {
            "gridcolor": "white",
            "linecolor": "white",
            "ticks": ""
           },
           "bgcolor": "#E5ECF6",
           "radialaxis": {
            "gridcolor": "white",
            "linecolor": "white",
            "ticks": ""
           }
          },
          "scene": {
           "xaxis": {
            "backgroundcolor": "#E5ECF6",
            "gridcolor": "white",
            "gridwidth": 2,
            "linecolor": "white",
            "showbackground": true,
            "ticks": "",
            "zerolinecolor": "white"
           },
           "yaxis": {
            "backgroundcolor": "#E5ECF6",
            "gridcolor": "white",
            "gridwidth": 2,
            "linecolor": "white",
            "showbackground": true,
            "ticks": "",
            "zerolinecolor": "white"
           },
           "zaxis": {
            "backgroundcolor": "#E5ECF6",
            "gridcolor": "white",
            "gridwidth": 2,
            "linecolor": "white",
            "showbackground": true,
            "ticks": "",
            "zerolinecolor": "white"
           }
          },
          "shapedefaults": {
           "line": {
            "color": "#2a3f5f"
           }
          },
          "ternary": {
           "aaxis": {
            "gridcolor": "white",
            "linecolor": "white",
            "ticks": ""
           },
           "baxis": {
            "gridcolor": "white",
            "linecolor": "white",
            "ticks": ""
           },
           "bgcolor": "#E5ECF6",
           "caxis": {
            "gridcolor": "white",
            "linecolor": "white",
            "ticks": ""
           }
          },
          "title": {
           "x": 0.05
          },
          "xaxis": {
           "automargin": true,
           "gridcolor": "white",
           "linecolor": "white",
           "ticks": "",
           "title": {
            "standoff": 15
           },
           "zerolinecolor": "white",
           "zerolinewidth": 2
          },
          "yaxis": {
           "automargin": true,
           "gridcolor": "white",
           "linecolor": "white",
           "ticks": "",
           "title": {
            "standoff": 15
           },
           "zerolinecolor": "white",
           "zerolinewidth": 2
          }
         }
        }
       }
      }
     },
     "metadata": {},
     "output_type": "display_data"
    }
   ],
   "source": [
    "data.reset_index(inplace=True)\n",
    "dfpl = data[0:150]\n",
    "import plotly.graph_objects as go\n",
    "\n",
    "fig = go.Figure(data=[go.Candlestick(x=dfpl.index,\n",
    "                open=dfpl['Open'],\n",
    "                high=dfpl['High'],\n",
    "                low=dfpl['Low'],\n",
    "                close=dfpl['Close'])])\n",
    "\n",
    "fig.show()"
   ]
  },
  {
   "cell_type": "code",
   "execution_count": 13,
   "id": "33aebc10",
   "metadata": {},
   "outputs": [
    {
     "name": "stderr",
     "output_type": "stream",
     "text": [
      "C:\\Users\\Chinook\\AppData\\Local\\Temp\\ipykernel_2776\\3252381130.py:2: SettingWithCopyWarning:\n",
      "\n",
      "\n",
      "A value is trying to be set on a copy of a slice from a DataFrame.\n",
      "Try using .loc[row_indexer,col_indexer] = value instead\n",
      "\n",
      "See the caveats in the documentation: https://pandas.pydata.org/pandas-docs/stable/user_guide/indexing.html#returning-a-view-versus-a-copy\n",
      "\n",
      "C:\\Users\\Chinook\\AppData\\Local\\Temp\\ipykernel_2776\\3252381130.py:3: SettingWithCopyWarning:\n",
      "\n",
      "\n",
      "A value is trying to be set on a copy of a slice from a DataFrame.\n",
      "Try using .loc[row_indexer,col_indexer] = value instead\n",
      "\n",
      "See the caveats in the documentation: https://pandas.pydata.org/pandas-docs/stable/user_guide/indexing.html#returning-a-view-versus-a-copy\n",
      "\n"
     ]
    }
   ],
   "source": [
    "import pandas_ta as ta\n",
    "df[\"EMA\"] = ta.ema(df.Close, length=10)\n",
    "df[\"RSI_10\"] = ta.rsi(df.Close, length=10)"
   ]
  },
  {
   "cell_type": "code",
   "execution_count": 14,
   "id": "f15e79ce",
   "metadata": {},
   "outputs": [
    {
     "data": {
      "text/html": [
       "<div>\n",
       "<style scoped>\n",
       "    .dataframe tbody tr th:only-of-type {\n",
       "        vertical-align: middle;\n",
       "    }\n",
       "\n",
       "    .dataframe tbody tr th {\n",
       "        vertical-align: top;\n",
       "    }\n",
       "\n",
       "    .dataframe thead th {\n",
       "        text-align: right;\n",
       "    }\n",
       "</style>\n",
       "<table border=\"1\" class=\"dataframe\">\n",
       "  <thead>\n",
       "    <tr style=\"text-align: right;\">\n",
       "      <th></th>\n",
       "      <th>Gmt time</th>\n",
       "      <th>Open</th>\n",
       "      <th>High</th>\n",
       "      <th>Low</th>\n",
       "      <th>Close</th>\n",
       "      <th>Volume</th>\n",
       "      <th>EMA</th>\n",
       "      <th>RSI_10</th>\n",
       "    </tr>\n",
       "  </thead>\n",
       "  <tbody>\n",
       "    <tr>\n",
       "      <th>0</th>\n",
       "      <td>07.05.2017 21:00:00.000</td>\n",
       "      <td>1559</td>\n",
       "      <td>1681</td>\n",
       "      <td>1557</td>\n",
       "      <td>1658</td>\n",
       "      <td>1.872044e+06</td>\n",
       "      <td>NaN</td>\n",
       "      <td>NaN</td>\n",
       "    </tr>\n",
       "    <tr>\n",
       "      <th>1</th>\n",
       "      <td>08.05.2017 21:00:00.000</td>\n",
       "      <td>1658</td>\n",
       "      <td>1753</td>\n",
       "      <td>1626</td>\n",
       "      <td>1747</td>\n",
       "      <td>1.330136e+06</td>\n",
       "      <td>NaN</td>\n",
       "      <td>NaN</td>\n",
       "    </tr>\n",
       "    <tr>\n",
       "      <th>2</th>\n",
       "      <td>09.05.2017 21:00:00.000</td>\n",
       "      <td>1713</td>\n",
       "      <td>1769</td>\n",
       "      <td>1677</td>\n",
       "      <td>1752</td>\n",
       "      <td>1.916895e+06</td>\n",
       "      <td>NaN</td>\n",
       "      <td>NaN</td>\n",
       "    </tr>\n",
       "    <tr>\n",
       "      <th>3</th>\n",
       "      <td>10.05.2017 21:00:00.000</td>\n",
       "      <td>1784</td>\n",
       "      <td>1887</td>\n",
       "      <td>1777</td>\n",
       "      <td>1857</td>\n",
       "      <td>1.613521e+06</td>\n",
       "      <td>NaN</td>\n",
       "      <td>NaN</td>\n",
       "    </tr>\n",
       "    <tr>\n",
       "      <th>4</th>\n",
       "      <td>11.05.2017 21:00:00.000</td>\n",
       "      <td>1836</td>\n",
       "      <td>1836</td>\n",
       "      <td>1651</td>\n",
       "      <td>1692</td>\n",
       "      <td>2.550428e+06</td>\n",
       "      <td>NaN</td>\n",
       "      <td>NaN</td>\n",
       "    </tr>\n",
       "    <tr>\n",
       "      <th>...</th>\n",
       "      <td>...</td>\n",
       "      <td>...</td>\n",
       "      <td>...</td>\n",
       "      <td>...</td>\n",
       "      <td>...</td>\n",
       "      <td>...</td>\n",
       "      <td>...</td>\n",
       "      <td>...</td>\n",
       "    </tr>\n",
       "    <tr>\n",
       "      <th>1301</th>\n",
       "      <td>12.10.2021 21:00:00.000</td>\n",
       "      <td>55433</td>\n",
       "      <td>57543</td>\n",
       "      <td>54328</td>\n",
       "      <td>57047</td>\n",
       "      <td>2.013182e+03</td>\n",
       "      <td>54074.141410</td>\n",
       "      <td>71.360551</td>\n",
       "    </tr>\n",
       "    <tr>\n",
       "      <th>1302</th>\n",
       "      <td>13.10.2021 21:00:00.000</td>\n",
       "      <td>57078</td>\n",
       "      <td>58568</td>\n",
       "      <td>56906</td>\n",
       "      <td>57505</td>\n",
       "      <td>2.001020e+03</td>\n",
       "      <td>54697.933881</td>\n",
       "      <td>72.354299</td>\n",
       "    </tr>\n",
       "    <tr>\n",
       "      <th>1303</th>\n",
       "      <td>14.10.2021 21:00:00.000</td>\n",
       "      <td>57533</td>\n",
       "      <td>62922</td>\n",
       "      <td>56940</td>\n",
       "      <td>62587</td>\n",
       "      <td>2.235774e+03</td>\n",
       "      <td>56132.309539</td>\n",
       "      <td>80.637520</td>\n",
       "    </tr>\n",
       "    <tr>\n",
       "      <th>1304</th>\n",
       "      <td>15.10.2021 21:00:00.000</td>\n",
       "      <td>62587</td>\n",
       "      <td>62608</td>\n",
       "      <td>60223</td>\n",
       "      <td>61077</td>\n",
       "      <td>1.943311e+03</td>\n",
       "      <td>57031.344168</td>\n",
       "      <td>73.379074</td>\n",
       "    </tr>\n",
       "    <tr>\n",
       "      <th>1305</th>\n",
       "      <td>16.10.2021 21:00:00.000</td>\n",
       "      <td>61077</td>\n",
       "      <td>61498</td>\n",
       "      <td>59043</td>\n",
       "      <td>59467</td>\n",
       "      <td>2.443833e+03</td>\n",
       "      <td>57474.190683</td>\n",
       "      <td>66.308096</td>\n",
       "    </tr>\n",
       "  </tbody>\n",
       "</table>\n",
       "<p>1304 rows × 8 columns</p>\n",
       "</div>"
      ],
      "text/plain": [
       "                     Gmt time   Open   High    Low  Close        Volume  \\\n",
       "0     07.05.2017 21:00:00.000   1559   1681   1557   1658  1.872044e+06   \n",
       "1     08.05.2017 21:00:00.000   1658   1753   1626   1747  1.330136e+06   \n",
       "2     09.05.2017 21:00:00.000   1713   1769   1677   1752  1.916895e+06   \n",
       "3     10.05.2017 21:00:00.000   1784   1887   1777   1857  1.613521e+06   \n",
       "4     11.05.2017 21:00:00.000   1836   1836   1651   1692  2.550428e+06   \n",
       "...                       ...    ...    ...    ...    ...           ...   \n",
       "1301  12.10.2021 21:00:00.000  55433  57543  54328  57047  2.013182e+03   \n",
       "1302  13.10.2021 21:00:00.000  57078  58568  56906  57505  2.001020e+03   \n",
       "1303  14.10.2021 21:00:00.000  57533  62922  56940  62587  2.235774e+03   \n",
       "1304  15.10.2021 21:00:00.000  62587  62608  60223  61077  1.943311e+03   \n",
       "1305  16.10.2021 21:00:00.000  61077  61498  59043  59467  2.443833e+03   \n",
       "\n",
       "               EMA     RSI_10  \n",
       "0              NaN        NaN  \n",
       "1              NaN        NaN  \n",
       "2              NaN        NaN  \n",
       "3              NaN        NaN  \n",
       "4              NaN        NaN  \n",
       "...            ...        ...  \n",
       "1301  54074.141410  71.360551  \n",
       "1302  54697.933881  72.354299  \n",
       "1303  56132.309539  80.637520  \n",
       "1304  57031.344168  73.379074  \n",
       "1305  57474.190683  66.308096  \n",
       "\n",
       "[1304 rows x 8 columns]"
      ]
     },
     "execution_count": 14,
     "metadata": {},
     "output_type": "execute_result"
    }
   ],
   "source": [
    "df"
   ]
  },
  {
   "cell_type": "code",
   "execution_count": 16,
   "id": "8f81d312",
   "metadata": {},
   "outputs": [
    {
     "data": {
      "application/vnd.plotly.v1+json": {
       "config": {
        "plotlyServerURL": "https://plot.ly"
       },
       "data": [
        {
         "close": [
          2174,
          2349,
          2255,
          2730,
          2626,
          2760,
          2471,
          2504,
          2584,
          2756,
          2886,
          2745,
          2691,
          2783,
          2832,
          3342,
          3447,
          3362,
          3425,
          3588,
          4263,
          4072,
          4352,
          4332,
          4305,
          3997,
          4073,
          4134,
          4234,
          4329,
          4340,
          4597,
          4575,
          4742,
          4739,
          4367,
          4460,
          4569,
          4576,
          4248,
          4193,
          4180,
          3898,
          3392,
          3726,
          4007,
          3906,
          3960,
          3649,
          3616,
          3942,
          3908,
          4154,
          4165,
          4173,
          4393,
          4285,
          4201,
          4347,
          4341,
          4844,
          4873,
          4827,
          5319,
          5617,
          5679,
          5579,
          5508,
          5701,
          5973,
          5914,
          5596,
          5681,
          5844,
          5756,
          6100,
          6378,
          6580,
          7058,
          7229,
          7133,
          7075,
          7264,
          7122,
          6584,
          6508,
          6593,
          7294,
          7893,
          7707,
          8250,
          8136,
          8205,
          8168,
          8250,
          9657,
          9945,
          10202,
          9662,
          10903
         ],
         "high": [
          2189,
          2397,
          2401,
          2731,
          2774,
          2802,
          2781,
          2611,
          2599,
          2836,
          2893,
          2928,
          2760,
          2806,
          2878,
          3427,
          3489,
          3461,
          3458,
          3590,
          4343,
          4452,
          4355,
          4479,
          4359,
          4153,
          4144,
          4265,
          4257,
          4454,
          4370,
          4643,
          4640,
          4769,
          4745,
          4641,
          4546,
          4690,
          4691,
          4694,
          4380,
          4386,
          4212,
          3958,
          3854,
          4127,
          4124,
          4046,
          3975,
          3763,
          3961,
          3965,
          4193,
          4277,
          4222,
          4470,
          4431,
          4353,
          4360,
          4418,
          4871,
          4927,
          4876,
          5391,
          5868,
          5758,
          5786,
          5613,
          5741,
          6064,
          6059,
          5932,
          5694,
          5985,
          5996,
          6220,
          6430,
          6650,
          7401,
          7451,
          7445,
          7229,
          7883,
          7491,
          7348,
          6828,
          6748,
          7346,
          7898,
          7999,
          8291,
          8376,
          8304,
          8283,
          8332,
          9751,
          9975,
          11439,
          10799,
          10942
         ],
         "low": [
          1855,
          2145,
          2220,
          2245,
          2616,
          2721,
          2450,
          2404,
          2452,
          2584,
          2695,
          2646,
          2668,
          2650,
          2765,
          3193,
          3341,
          3238,
          3300,
          3404,
          3984,
          3810,
          4059,
          4185,
          4193,
          3967,
          3774,
          4020,
          4092,
          4218,
          4191,
          4340,
          4500,
          4557,
          4727,
          4166,
          4138,
          4415,
          4483,
          4140,
          4114,
          4080,
          3737,
          3246,
          2975,
          3705,
          3851,
          3837,
          3573,
          3511,
          3664,
          3855,
          3875,
          4127,
          4018,
          4361,
          4236,
          4185,
          4146,
          4297,
          4557,
          4740,
          4710,
          4791,
          5279,
          5501,
          5525,
          5110,
          5487,
          5619,
          5648,
          5563,
          5374,
          5642,
          5690,
          6028,
          6085,
          6364,
          6574,
          6941,
          6950,
          6932,
          7043,
          7062,
          6420,
          5605,
          6400,
          6542,
          7124,
          7536,
          7948,
          7800,
          7971,
          8097,
          7873,
          9279,
          9555,
          9020,
          9028,
          9377
         ],
         "open": [
          1865,
          2173,
          2350,
          2255,
          2730,
          2788,
          2760,
          2468,
          2504,
          2584,
          2761,
          2889,
          2740,
          2691,
          2783,
          3266,
          3343,
          3447,
          3372,
          3425,
          4011,
          4263,
          4072,
          4325,
          4328,
          4119,
          3775,
          4073,
          4134,
          4234,
          4366,
          4340,
          4597,
          4575,
          4742,
          4626,
          4367,
          4460,
          4569,
          4598,
          4289,
          4196,
          4180,
          3898,
          3392,
          3748,
          4007,
          3911,
          3959,
          3650,
          3670,
          3942,
          3908,
          4154,
          4165,
          4388,
          4392,
          4284,
          4201,
          4347,
          4583,
          4843,
          4873,
          4827,
          5318,
          5525,
          5681,
          5578,
          5509,
          5701,
          5882,
          5914,
          5597,
          5681,
          5844,
          6177,
          6100,
          6377,
          6580,
          7061,
          7361,
          7129,
          7075,
          7263,
          7121,
          5894,
          6507,
          6593,
          7295,
          7894,
          8022,
          8250,
          8136,
          8207,
          8168,
          9335,
          9653,
          9922,
          10200,
          9661
         ],
         "type": "candlestick",
         "x": [
          50,
          51,
          52,
          53,
          54,
          55,
          56,
          57,
          58,
          59,
          60,
          61,
          62,
          63,
          64,
          65,
          66,
          67,
          68,
          69,
          70,
          71,
          72,
          73,
          74,
          75,
          76,
          77,
          78,
          79,
          80,
          81,
          82,
          83,
          84,
          85,
          86,
          87,
          88,
          89,
          90,
          91,
          92,
          93,
          94,
          95,
          96,
          97,
          98,
          99,
          100,
          101,
          102,
          103,
          104,
          105,
          106,
          107,
          108,
          109,
          110,
          111,
          112,
          113,
          114,
          115,
          116,
          117,
          118,
          119,
          120,
          121,
          122,
          123,
          124,
          125,
          126,
          127,
          128,
          129,
          130,
          131,
          132,
          133,
          134,
          135,
          136,
          137,
          138,
          139,
          140,
          141,
          142,
          143,
          144,
          145,
          146,
          147,
          148,
          149
         ]
        },
        {
         "line": {
          "color": "red",
          "width": 2
         },
         "name": "EMA",
         "type": "scatter",
         "x": [
          50,
          51,
          52,
          53,
          54,
          55,
          56,
          57,
          58,
          59,
          60,
          61,
          62,
          63,
          64,
          65,
          66,
          67,
          68,
          69,
          70,
          71,
          72,
          73,
          74,
          75,
          76,
          77,
          78,
          79,
          80,
          81,
          82,
          83,
          84,
          85,
          86,
          87,
          88,
          89,
          90,
          91,
          92,
          93,
          94,
          95,
          96,
          97,
          98,
          99,
          100,
          101,
          102,
          103,
          104,
          105,
          106,
          107,
          108,
          109,
          110,
          111,
          112,
          113,
          114,
          115,
          116,
          117,
          118,
          119,
          120,
          121,
          122,
          123,
          124,
          125,
          126,
          127,
          128,
          129,
          130,
          131,
          132,
          133,
          134,
          135,
          136,
          137,
          138,
          139,
          140,
          141,
          142,
          143,
          144,
          145,
          146,
          147,
          148,
          149
         ],
         "y": [
          2356.957957072791,
          2355.511055786829,
          2337.2363183710413,
          2408.6478968490337,
          2448.1664610583002,
          2504.8634681386093,
          2498.7064739315892,
          2499.668933216755,
          2515.001854450072,
          2558.8196990955134,
          2618.3070265326924,
          2641.342112617657,
          2650.370819414447,
          2674.4852158845474,
          2703.1242675419026,
          2819.2834916251927,
          2933.413765875158,
          3011.3385357160378,
          3086.549711040394,
          3177.722490851231,
          3375.0456743328255,
          3501.764642635948,
          3656.3528894294113,
          3779.1978186240635,
          3874.79821523787,
          3897.016721558257,
          3929.013681274937,
          3966.28392104313,
          4014.9595717625607,
          4072.057831442095,
          4120.774589361714,
          4207.361027659584,
          4274.204477176023,
          4359.258208598564,
          4428.302170671553,
          4417.156321458542,
          4424.946081193352,
          4451.137702794561,
          4473.839938650095,
          4432.778131622805,
          4389.182107691386,
          4351.148997202043,
          4268.758270438035,
          4109.347675812937,
          4039.648098392403,
          4033.712080502875,
          4010.491702229625,
          4001.3113927333293,
          3937.2547758727237,
          3878.8448166231374,
          3890.3275772371126,
          3893.540745012183,
          3940.896973191786,
          3981.6429780660064,
          4016.4351638721864,
          4084.9014977136067,
          4121.28304358386,
          4135.777035659521,
          4174.181210994153,
          4204.511899904307,
          4320.782463558069,
          4421.1856520020565,
          4494.970078910774,
          4644.793700926996,
          4821.558482576633,
          4977.456940289972,
          5086.8284056917955,
          5163.405059202378,
          5261.149593892855,
          5390.5769404577895,
          5485.744769465464,
          5505.791175017197,
          5537.64732501407,
          5593.347811375148,
          5622.920936579667,
          5709.662584474272,
          5831.178478206222,
          5967.32784580509,
          6165.631873840528,
          6358.97153314225,
          6499.703981661841,
          6604.303257723324,
          6724.248119955447,
          6796.566643599911,
          6757.9181629453815,
          6712.478496955311,
          6690.755133872527,
          6800.436018622976,
          6999.08401523698,
          7127.79601246662,
          7331.833101109052,
          7478.045264543769,
          7610.218852808538,
          7711.633606843348,
          7809.518405599103,
          8145.424150035629,
          8472.61975912006,
          8787.05253018914,
          8946.133888336568,
          9301.927726820828
         ]
        }
       ],
       "layout": {
        "template": {
         "data": {
          "bar": [
           {
            "error_x": {
             "color": "#2a3f5f"
            },
            "error_y": {
             "color": "#2a3f5f"
            },
            "marker": {
             "line": {
              "color": "#E5ECF6",
              "width": 0.5
             },
             "pattern": {
              "fillmode": "overlay",
              "size": 10,
              "solidity": 0.2
             }
            },
            "type": "bar"
           }
          ],
          "barpolar": [
           {
            "marker": {
             "line": {
              "color": "#E5ECF6",
              "width": 0.5
             },
             "pattern": {
              "fillmode": "overlay",
              "size": 10,
              "solidity": 0.2
             }
            },
            "type": "barpolar"
           }
          ],
          "carpet": [
           {
            "aaxis": {
             "endlinecolor": "#2a3f5f",
             "gridcolor": "white",
             "linecolor": "white",
             "minorgridcolor": "white",
             "startlinecolor": "#2a3f5f"
            },
            "baxis": {
             "endlinecolor": "#2a3f5f",
             "gridcolor": "white",
             "linecolor": "white",
             "minorgridcolor": "white",
             "startlinecolor": "#2a3f5f"
            },
            "type": "carpet"
           }
          ],
          "choropleth": [
           {
            "colorbar": {
             "outlinewidth": 0,
             "ticks": ""
            },
            "type": "choropleth"
           }
          ],
          "contour": [
           {
            "colorbar": {
             "outlinewidth": 0,
             "ticks": ""
            },
            "colorscale": [
             [
              0,
              "#0d0887"
             ],
             [
              0.1111111111111111,
              "#46039f"
             ],
             [
              0.2222222222222222,
              "#7201a8"
             ],
             [
              0.3333333333333333,
              "#9c179e"
             ],
             [
              0.4444444444444444,
              "#bd3786"
             ],
             [
              0.5555555555555556,
              "#d8576b"
             ],
             [
              0.6666666666666666,
              "#ed7953"
             ],
             [
              0.7777777777777778,
              "#fb9f3a"
             ],
             [
              0.8888888888888888,
              "#fdca26"
             ],
             [
              1,
              "#f0f921"
             ]
            ],
            "type": "contour"
           }
          ],
          "contourcarpet": [
           {
            "colorbar": {
             "outlinewidth": 0,
             "ticks": ""
            },
            "type": "contourcarpet"
           }
          ],
          "heatmap": [
           {
            "colorbar": {
             "outlinewidth": 0,
             "ticks": ""
            },
            "colorscale": [
             [
              0,
              "#0d0887"
             ],
             [
              0.1111111111111111,
              "#46039f"
             ],
             [
              0.2222222222222222,
              "#7201a8"
             ],
             [
              0.3333333333333333,
              "#9c179e"
             ],
             [
              0.4444444444444444,
              "#bd3786"
             ],
             [
              0.5555555555555556,
              "#d8576b"
             ],
             [
              0.6666666666666666,
              "#ed7953"
             ],
             [
              0.7777777777777778,
              "#fb9f3a"
             ],
             [
              0.8888888888888888,
              "#fdca26"
             ],
             [
              1,
              "#f0f921"
             ]
            ],
            "type": "heatmap"
           }
          ],
          "heatmapgl": [
           {
            "colorbar": {
             "outlinewidth": 0,
             "ticks": ""
            },
            "colorscale": [
             [
              0,
              "#0d0887"
             ],
             [
              0.1111111111111111,
              "#46039f"
             ],
             [
              0.2222222222222222,
              "#7201a8"
             ],
             [
              0.3333333333333333,
              "#9c179e"
             ],
             [
              0.4444444444444444,
              "#bd3786"
             ],
             [
              0.5555555555555556,
              "#d8576b"
             ],
             [
              0.6666666666666666,
              "#ed7953"
             ],
             [
              0.7777777777777778,
              "#fb9f3a"
             ],
             [
              0.8888888888888888,
              "#fdca26"
             ],
             [
              1,
              "#f0f921"
             ]
            ],
            "type": "heatmapgl"
           }
          ],
          "histogram": [
           {
            "marker": {
             "pattern": {
              "fillmode": "overlay",
              "size": 10,
              "solidity": 0.2
             }
            },
            "type": "histogram"
           }
          ],
          "histogram2d": [
           {
            "colorbar": {
             "outlinewidth": 0,
             "ticks": ""
            },
            "colorscale": [
             [
              0,
              "#0d0887"
             ],
             [
              0.1111111111111111,
              "#46039f"
             ],
             [
              0.2222222222222222,
              "#7201a8"
             ],
             [
              0.3333333333333333,
              "#9c179e"
             ],
             [
              0.4444444444444444,
              "#bd3786"
             ],
             [
              0.5555555555555556,
              "#d8576b"
             ],
             [
              0.6666666666666666,
              "#ed7953"
             ],
             [
              0.7777777777777778,
              "#fb9f3a"
             ],
             [
              0.8888888888888888,
              "#fdca26"
             ],
             [
              1,
              "#f0f921"
             ]
            ],
            "type": "histogram2d"
           }
          ],
          "histogram2dcontour": [
           {
            "colorbar": {
             "outlinewidth": 0,
             "ticks": ""
            },
            "colorscale": [
             [
              0,
              "#0d0887"
             ],
             [
              0.1111111111111111,
              "#46039f"
             ],
             [
              0.2222222222222222,
              "#7201a8"
             ],
             [
              0.3333333333333333,
              "#9c179e"
             ],
             [
              0.4444444444444444,
              "#bd3786"
             ],
             [
              0.5555555555555556,
              "#d8576b"
             ],
             [
              0.6666666666666666,
              "#ed7953"
             ],
             [
              0.7777777777777778,
              "#fb9f3a"
             ],
             [
              0.8888888888888888,
              "#fdca26"
             ],
             [
              1,
              "#f0f921"
             ]
            ],
            "type": "histogram2dcontour"
           }
          ],
          "mesh3d": [
           {
            "colorbar": {
             "outlinewidth": 0,
             "ticks": ""
            },
            "type": "mesh3d"
           }
          ],
          "parcoords": [
           {
            "line": {
             "colorbar": {
              "outlinewidth": 0,
              "ticks": ""
             }
            },
            "type": "parcoords"
           }
          ],
          "pie": [
           {
            "automargin": true,
            "type": "pie"
           }
          ],
          "scatter": [
           {
            "fillpattern": {
             "fillmode": "overlay",
             "size": 10,
             "solidity": 0.2
            },
            "type": "scatter"
           }
          ],
          "scatter3d": [
           {
            "line": {
             "colorbar": {
              "outlinewidth": 0,
              "ticks": ""
             }
            },
            "marker": {
             "colorbar": {
              "outlinewidth": 0,
              "ticks": ""
             }
            },
            "type": "scatter3d"
           }
          ],
          "scattercarpet": [
           {
            "marker": {
             "colorbar": {
              "outlinewidth": 0,
              "ticks": ""
             }
            },
            "type": "scattercarpet"
           }
          ],
          "scattergeo": [
           {
            "marker": {
             "colorbar": {
              "outlinewidth": 0,
              "ticks": ""
             }
            },
            "type": "scattergeo"
           }
          ],
          "scattergl": [
           {
            "marker": {
             "colorbar": {
              "outlinewidth": 0,
              "ticks": ""
             }
            },
            "type": "scattergl"
           }
          ],
          "scattermapbox": [
           {
            "marker": {
             "colorbar": {
              "outlinewidth": 0,
              "ticks": ""
             }
            },
            "type": "scattermapbox"
           }
          ],
          "scatterpolar": [
           {
            "marker": {
             "colorbar": {
              "outlinewidth": 0,
              "ticks": ""
             }
            },
            "type": "scatterpolar"
           }
          ],
          "scatterpolargl": [
           {
            "marker": {
             "colorbar": {
              "outlinewidth": 0,
              "ticks": ""
             }
            },
            "type": "scatterpolargl"
           }
          ],
          "scatterternary": [
           {
            "marker": {
             "colorbar": {
              "outlinewidth": 0,
              "ticks": ""
             }
            },
            "type": "scatterternary"
           }
          ],
          "surface": [
           {
            "colorbar": {
             "outlinewidth": 0,
             "ticks": ""
            },
            "colorscale": [
             [
              0,
              "#0d0887"
             ],
             [
              0.1111111111111111,
              "#46039f"
             ],
             [
              0.2222222222222222,
              "#7201a8"
             ],
             [
              0.3333333333333333,
              "#9c179e"
             ],
             [
              0.4444444444444444,
              "#bd3786"
             ],
             [
              0.5555555555555556,
              "#d8576b"
             ],
             [
              0.6666666666666666,
              "#ed7953"
             ],
             [
              0.7777777777777778,
              "#fb9f3a"
             ],
             [
              0.8888888888888888,
              "#fdca26"
             ],
             [
              1,
              "#f0f921"
             ]
            ],
            "type": "surface"
           }
          ],
          "table": [
           {
            "cells": {
             "fill": {
              "color": "#EBF0F8"
             },
             "line": {
              "color": "white"
             }
            },
            "header": {
             "fill": {
              "color": "#C8D4E3"
             },
             "line": {
              "color": "white"
             }
            },
            "type": "table"
           }
          ]
         },
         "layout": {
          "annotationdefaults": {
           "arrowcolor": "#2a3f5f",
           "arrowhead": 0,
           "arrowwidth": 1
          },
          "autotypenumbers": "strict",
          "coloraxis": {
           "colorbar": {
            "outlinewidth": 0,
            "ticks": ""
           }
          },
          "colorscale": {
           "diverging": [
            [
             0,
             "#8e0152"
            ],
            [
             0.1,
             "#c51b7d"
            ],
            [
             0.2,
             "#de77ae"
            ],
            [
             0.3,
             "#f1b6da"
            ],
            [
             0.4,
             "#fde0ef"
            ],
            [
             0.5,
             "#f7f7f7"
            ],
            [
             0.6,
             "#e6f5d0"
            ],
            [
             0.7,
             "#b8e186"
            ],
            [
             0.8,
             "#7fbc41"
            ],
            [
             0.9,
             "#4d9221"
            ],
            [
             1,
             "#276419"
            ]
           ],
           "sequential": [
            [
             0,
             "#0d0887"
            ],
            [
             0.1111111111111111,
             "#46039f"
            ],
            [
             0.2222222222222222,
             "#7201a8"
            ],
            [
             0.3333333333333333,
             "#9c179e"
            ],
            [
             0.4444444444444444,
             "#bd3786"
            ],
            [
             0.5555555555555556,
             "#d8576b"
            ],
            [
             0.6666666666666666,
             "#ed7953"
            ],
            [
             0.7777777777777778,
             "#fb9f3a"
            ],
            [
             0.8888888888888888,
             "#fdca26"
            ],
            [
             1,
             "#f0f921"
            ]
           ],
           "sequentialminus": [
            [
             0,
             "#0d0887"
            ],
            [
             0.1111111111111111,
             "#46039f"
            ],
            [
             0.2222222222222222,
             "#7201a8"
            ],
            [
             0.3333333333333333,
             "#9c179e"
            ],
            [
             0.4444444444444444,
             "#bd3786"
            ],
            [
             0.5555555555555556,
             "#d8576b"
            ],
            [
             0.6666666666666666,
             "#ed7953"
            ],
            [
             0.7777777777777778,
             "#fb9f3a"
            ],
            [
             0.8888888888888888,
             "#fdca26"
            ],
            [
             1,
             "#f0f921"
            ]
           ]
          },
          "colorway": [
           "#636efa",
           "#EF553B",
           "#00cc96",
           "#ab63fa",
           "#FFA15A",
           "#19d3f3",
           "#FF6692",
           "#B6E880",
           "#FF97FF",
           "#FECB52"
          ],
          "font": {
           "color": "#2a3f5f"
          },
          "geo": {
           "bgcolor": "white",
           "lakecolor": "white",
           "landcolor": "#E5ECF6",
           "showlakes": true,
           "showland": true,
           "subunitcolor": "white"
          },
          "hoverlabel": {
           "align": "left"
          },
          "hovermode": "closest",
          "mapbox": {
           "style": "light"
          },
          "paper_bgcolor": "white",
          "plot_bgcolor": "#E5ECF6",
          "polar": {
           "angularaxis": {
            "gridcolor": "white",
            "linecolor": "white",
            "ticks": ""
           },
           "bgcolor": "#E5ECF6",
           "radialaxis": {
            "gridcolor": "white",
            "linecolor": "white",
            "ticks": ""
           }
          },
          "scene": {
           "xaxis": {
            "backgroundcolor": "#E5ECF6",
            "gridcolor": "white",
            "gridwidth": 2,
            "linecolor": "white",
            "showbackground": true,
            "ticks": "",
            "zerolinecolor": "white"
           },
           "yaxis": {
            "backgroundcolor": "#E5ECF6",
            "gridcolor": "white",
            "gridwidth": 2,
            "linecolor": "white",
            "showbackground": true,
            "ticks": "",
            "zerolinecolor": "white"
           },
           "zaxis": {
            "backgroundcolor": "#E5ECF6",
            "gridcolor": "white",
            "gridwidth": 2,
            "linecolor": "white",
            "showbackground": true,
            "ticks": "",
            "zerolinecolor": "white"
           }
          },
          "shapedefaults": {
           "line": {
            "color": "#2a3f5f"
           }
          },
          "ternary": {
           "aaxis": {
            "gridcolor": "white",
            "linecolor": "white",
            "ticks": ""
           },
           "baxis": {
            "gridcolor": "white",
            "linecolor": "white",
            "ticks": ""
           },
           "bgcolor": "#E5ECF6",
           "caxis": {
            "gridcolor": "white",
            "linecolor": "white",
            "ticks": ""
           }
          },
          "title": {
           "x": 0.05
          },
          "xaxis": {
           "automargin": true,
           "gridcolor": "white",
           "linecolor": "white",
           "ticks": "",
           "title": {
            "standoff": 15
           },
           "zerolinecolor": "white",
           "zerolinewidth": 2
          },
          "yaxis": {
           "automargin": true,
           "gridcolor": "white",
           "linecolor": "white",
           "ticks": "",
           "title": {
            "standoff": 15
           },
           "zerolinecolor": "white",
           "zerolinewidth": 2
          }
         }
        }
       }
      }
     },
     "metadata": {},
     "output_type": "display_data"
    }
   ],
   "source": [
    "dfpl = df[50:150]\n",
    "import plotly.graph_objects as go\n",
    "\n",
    "fig = go.Figure(data=[go.Candlestick(x=dfpl.index,\n",
    "                open=dfpl['Open'],\n",
    "                high=dfpl['High'],\n",
    "                low=dfpl['Low'],\n",
    "                close=dfpl['Close']),\n",
    "                go.Scatter(x=dfpl.index, y=dfpl.EMA, line=dict(color='red', width=2), name=\"EMA\")])\n",
    "\n",
    "\n",
    "fig.show()"
   ]
  },
  {
   "cell_type": "code",
   "execution_count": 11,
   "id": "b60d551e",
   "metadata": {},
   "outputs": [
    {
     "name": "stdout",
     "output_type": "stream",
     "text": [
      "Pandas TA - Technical Analysis Indicators - v0.3.14b0\n",
      "Total Indicators & Utilities: 205\n",
      "Abbreviations:\n",
      "    aberration, above, above_value, accbands, ad, adosc, adx, alma, amat, ao, aobv, apo, aroon, atr, bbands, below, below_value, bias, bop, brar, cci, cdl_pattern, cdl_z, cfo, cg, chop, cksp, cmf, cmo, coppock, cross, cross_value, cti, decay, decreasing, dema, dm, donchian, dpo, ebsw, efi, ema, entropy, eom, er, eri, fisher, fwma, ha, hilo, hl2, hlc3, hma, hwc, hwma, ichimoku, increasing, inertia, jma, kama, kc, kdj, kst, kurtosis, kvo, linreg, log_return, long_run, macd, mad, massi, mcgd, median, mfi, midpoint, midprice, mom, natr, nvi, obv, ohlc4, pdist, percent_return, pgo, ppo, psar, psl, pvi, pvo, pvol, pvr, pvt, pwma, qqe, qstick, quantile, rma, roc, rsi, rsx, rvgi, rvi, short_run, sinwma, skew, slope, sma, smi, squeeze, squeeze_pro, ssf, stc, stdev, stoch, stochrsi, supertrend, swma, t3, td_seq, tema, thermo, tos_stdevall, trima, trix, true_range, tsi, tsignals, ttm_trend, ui, uo, variance, vhf, vidya, vortex, vp, vwap, vwma, wcp, willr, wma, xsignals, zlma, zscore\n",
      "\n",
      "Candle Patterns:\n",
      "    2crows, 3blackcrows, 3inside, 3linestrike, 3outside, 3starsinsouth, 3whitesoldiers, abandonedbaby, advanceblock, belthold, breakaway, closingmarubozu, concealbabyswall, counterattack, darkcloudcover, doji, dojistar, dragonflydoji, engulfing, eveningdojistar, eveningstar, gapsidesidewhite, gravestonedoji, hammer, hangingman, harami, haramicross, highwave, hikkake, hikkakemod, homingpigeon, identical3crows, inneck, inside, invertedhammer, kicking, kickingbylength, ladderbottom, longleggeddoji, longline, marubozu, matchinglow, mathold, morningdojistar, morningstar, onneck, piercing, rickshawman, risefall3methods, separatinglines, shootingstar, shortline, spinningtop, stalledpattern, sticksandwich, takuri, tasukigap, thrusting, tristar, unique3river, upsidegap2crows, xsidegap3methods\n"
     ]
    }
   ],
   "source": [
    "df.ta.indicators()"
   ]
  },
  {
   "cell_type": "code",
   "execution_count": 12,
   "id": "a41ac265",
   "metadata": {},
   "outputs": [
    {
     "name": "stdout",
     "output_type": "stream",
     "text": [
      "Help on function rsi in module pandas_ta.momentum.rsi:\n",
      "\n",
      "rsi(close, length=None, scalar=None, talib=None, drift=None, offset=None, **kwargs)\n",
      "    Relative Strength Index (RSI)\n",
      "    \n",
      "    The Relative Strength Index is popular momentum oscillator used to measure the\n",
      "    velocity as well as the magnitude of directional price movements.\n",
      "    \n",
      "    Sources:\n",
      "        https://www.tradingview.com/wiki/Relative_Strength_Index_(RSI)\n",
      "    \n",
      "    Calculation:\n",
      "        Default Inputs:\n",
      "            length=14, scalar=100, drift=1\n",
      "        ABS = Absolute Value\n",
      "        RMA = Rolling Moving Average\n",
      "    \n",
      "        diff = close.diff(drift)\n",
      "        positive = diff if diff > 0 else 0\n",
      "        negative = diff if diff < 0 else 0\n",
      "    \n",
      "        pos_avg = RMA(positive, length)\n",
      "        neg_avg = ABS(RMA(negative, length))\n",
      "    \n",
      "        RSI = scalar * pos_avg / (pos_avg + neg_avg)\n",
      "    \n",
      "    Args:\n",
      "        close (pd.Series): Series of 'close's\n",
      "        length (int): It's period. Default: 14\n",
      "        scalar (float): How much to magnify. Default: 100\n",
      "        talib (bool): If TA Lib is installed and talib is True, Returns the TA Lib\n",
      "            version. Default: True\n",
      "        drift (int): The difference period. Default: 1\n",
      "        offset (int): How many periods to offset the result. Default: 0\n",
      "    \n",
      "    Kwargs:\n",
      "        fillna (value, optional): pd.DataFrame.fillna(value)\n",
      "        fill_method (value, optional): Type of fill method\n",
      "    \n",
      "    Returns:\n",
      "        pd.Series: New feature generated.\n",
      "\n"
     ]
    }
   ],
   "source": [
    "help(ta.rsi)"
   ]
  },
  {
   "cell_type": "code",
   "execution_count": null,
   "id": "b0ee2985",
   "metadata": {},
   "outputs": [],
   "source": []
  }
 ],
 "metadata": {
  "kernelspec": {
   "display_name": "Python 3 (ipykernel)",
   "language": "python",
   "name": "python3"
  },
  "language_info": {
   "codemirror_mode": {
    "name": "ipython",
    "version": 3
   },
   "file_extension": ".py",
   "mimetype": "text/x-python",
   "name": "python",
   "nbconvert_exporter": "python",
   "pygments_lexer": "ipython3",
   "version": "3.11.4"
  }
 },
 "nbformat": 4,
 "nbformat_minor": 5
}
