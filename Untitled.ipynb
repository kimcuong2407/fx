{
 "cells": [
  {
   "cell_type": "markdown",
   "id": "89577010",
   "metadata": {},
   "source": [
    "Machine learning tutorial"
   ]
  },
  {
   "cell_type": "code",
   "execution_count": 3,
   "id": "16effd8d",
   "metadata": {},
   "outputs": [
    {
     "ename": "ValueError",
     "evalue": "Thank you for using Alpha Vantage! This is a premium endpoint. You may subscribe to any of the premium plans at https://www.alphavantage.co/premium/ to instantly unlock all premium endpoints",
     "output_type": "error",
     "traceback": [
      "\u001b[0;31m---------------------------------------------------------------------------\u001b[0m",
      "\u001b[0;31mValueError\u001b[0m                                Traceback (most recent call last)",
      "Input \u001b[0;32mIn [3]\u001b[0m, in \u001b[0;36m<cell line: 8>\u001b[0;34m()\u001b[0m\n\u001b[1;32m      5\u001b[0m fx \u001b[38;5;241m=\u001b[39m ForeignExchange(key\u001b[38;5;241m=\u001b[39mapi_key)\n\u001b[1;32m      7\u001b[0m \u001b[38;5;66;03m# Lấy dữ liệu lịch sử\u001b[39;00m\n\u001b[0;32m----> 8\u001b[0m data, _ \u001b[38;5;241m=\u001b[39m \u001b[43mfx\u001b[49m\u001b[38;5;241;43m.\u001b[39;49m\u001b[43mget_currency_exchange_intraday\u001b[49m\u001b[43m(\u001b[49m\u001b[43mfrom_symbol\u001b[49m\u001b[38;5;241;43m=\u001b[39;49m\u001b[38;5;124;43m'\u001b[39;49m\u001b[38;5;124;43mEUR\u001b[39;49m\u001b[38;5;124;43m'\u001b[39;49m\u001b[43m,\u001b[49m\u001b[43m \u001b[49m\u001b[43mto_symbol\u001b[49m\u001b[38;5;241;43m=\u001b[39;49m\u001b[38;5;124;43m'\u001b[39;49m\u001b[38;5;124;43mUSD\u001b[39;49m\u001b[38;5;124;43m'\u001b[39;49m\u001b[43m,\u001b[49m\u001b[43m \u001b[49m\u001b[43minterval\u001b[49m\u001b[38;5;241;43m=\u001b[39;49m\u001b[38;5;124;43m'\u001b[39;49m\u001b[38;5;124;43m60min\u001b[39;49m\u001b[38;5;124;43m'\u001b[39;49m\u001b[43m,\u001b[49m\u001b[43m \u001b[49m\u001b[43moutputsize\u001b[49m\u001b[38;5;241;43m=\u001b[39;49m\u001b[38;5;124;43m'\u001b[39;49m\u001b[38;5;124;43mfull\u001b[39;49m\u001b[38;5;124;43m'\u001b[39;49m\u001b[43m)\u001b[49m\n\u001b[1;32m     10\u001b[0m \u001b[38;5;66;03m# Chuyển đổi dữ liệu thành DataFrame\u001b[39;00m\n\u001b[1;32m     11\u001b[0m df \u001b[38;5;241m=\u001b[39m pd\u001b[38;5;241m.\u001b[39mDataFrame\u001b[38;5;241m.\u001b[39mfrom_dict(data, orient\u001b[38;5;241m=\u001b[39m\u001b[38;5;124m'\u001b[39m\u001b[38;5;124mindex\u001b[39m\u001b[38;5;124m'\u001b[39m)\n",
      "File \u001b[0;32m~/opt/anaconda3/lib/python3.9/site-packages/alpha_vantage/alphavantage.py:218\u001b[0m, in \u001b[0;36mAlphaVantage._output_format.<locals>._format_wrapper\u001b[0;34m(self, *args, **kwargs)\u001b[0m\n\u001b[1;32m    216\u001b[0m \u001b[38;5;129m@wraps\u001b[39m(func)\n\u001b[1;32m    217\u001b[0m \u001b[38;5;28;01mdef\u001b[39;00m \u001b[38;5;21m_format_wrapper\u001b[39m(\u001b[38;5;28mself\u001b[39m, \u001b[38;5;241m*\u001b[39margs, \u001b[38;5;241m*\u001b[39m\u001b[38;5;241m*\u001b[39mkwargs):\n\u001b[0;32m--> 218\u001b[0m     call_response, data_key, meta_data_key \u001b[38;5;241m=\u001b[39m \u001b[43mfunc\u001b[49m\u001b[43m(\u001b[49m\n\u001b[1;32m    219\u001b[0m \u001b[43m        \u001b[49m\u001b[38;5;28;43mself\u001b[39;49m\u001b[43m,\u001b[49m\u001b[43m \u001b[49m\u001b[38;5;241;43m*\u001b[39;49m\u001b[43margs\u001b[49m\u001b[43m,\u001b[49m\u001b[43m \u001b[49m\u001b[38;5;241;43m*\u001b[39;49m\u001b[38;5;241;43m*\u001b[39;49m\u001b[43mkwargs\u001b[49m\u001b[43m)\u001b[49m\n\u001b[1;32m    220\u001b[0m     \u001b[38;5;28;01mif\u001b[39;00m \u001b[38;5;124m'\u001b[39m\u001b[38;5;124mjson\u001b[39m\u001b[38;5;124m'\u001b[39m \u001b[38;5;129;01min\u001b[39;00m \u001b[38;5;28mself\u001b[39m\u001b[38;5;241m.\u001b[39moutput_format\u001b[38;5;241m.\u001b[39mlower() \u001b[38;5;129;01mor\u001b[39;00m \u001b[38;5;124m'\u001b[39m\u001b[38;5;124mpandas\u001b[39m\u001b[38;5;124m'\u001b[39m \\\n\u001b[1;32m    221\u001b[0m             \u001b[38;5;129;01min\u001b[39;00m \u001b[38;5;28mself\u001b[39m\u001b[38;5;241m.\u001b[39moutput_format\u001b[38;5;241m.\u001b[39mlower():\n\u001b[1;32m    222\u001b[0m         \u001b[38;5;28;01mif\u001b[39;00m data_key \u001b[38;5;129;01mis\u001b[39;00m \u001b[38;5;129;01mnot\u001b[39;00m \u001b[38;5;28;01mNone\u001b[39;00m:\n",
      "File \u001b[0;32m~/opt/anaconda3/lib/python3.9/site-packages/alpha_vantage/alphavantage.py:160\u001b[0m, in \u001b[0;36mAlphaVantage._call_api_on_func.<locals>._call_wrapper\u001b[0;34m(self, *args, **kwargs)\u001b[0m\n\u001b[1;32m    158\u001b[0m \u001b[38;5;28;01melse\u001b[39;00m:\n\u001b[1;32m    159\u001b[0m     url \u001b[38;5;241m=\u001b[39m \u001b[38;5;124m'\u001b[39m\u001b[38;5;132;01m{}\u001b[39;00m\u001b[38;5;132;01m{}\u001b[39;00m\u001b[38;5;124m'\u001b[39m\u001b[38;5;241m.\u001b[39mformat(url, apikey_parameter)\n\u001b[0;32m--> 160\u001b[0m \u001b[38;5;28;01mreturn\u001b[39;00m \u001b[38;5;28;43mself\u001b[39;49m\u001b[38;5;241;43m.\u001b[39;49m\u001b[43m_handle_api_call\u001b[49m\u001b[43m(\u001b[49m\u001b[43murl\u001b[49m\u001b[43m)\u001b[49m, data_key, meta_data_key\n",
      "File \u001b[0;32m~/opt/anaconda3/lib/python3.9/site-packages/alpha_vantage/alphavantage.py:361\u001b[0m, in \u001b[0;36mAlphaVantage._handle_api_call\u001b[0;34m(self, url)\u001b[0m\n\u001b[1;32m    359\u001b[0m     \u001b[38;5;28;01mraise\u001b[39;00m \u001b[38;5;167;01mValueError\u001b[39;00m(json_response[\u001b[38;5;124m\"\u001b[39m\u001b[38;5;124mError Message\u001b[39m\u001b[38;5;124m\"\u001b[39m])\n\u001b[1;32m    360\u001b[0m \u001b[38;5;28;01melif\u001b[39;00m \u001b[38;5;124m\"\u001b[39m\u001b[38;5;124mInformation\u001b[39m\u001b[38;5;124m\"\u001b[39m \u001b[38;5;129;01min\u001b[39;00m json_response \u001b[38;5;129;01mand\u001b[39;00m \u001b[38;5;28mself\u001b[39m\u001b[38;5;241m.\u001b[39mtreat_info_as_error:\n\u001b[0;32m--> 361\u001b[0m     \u001b[38;5;28;01mraise\u001b[39;00m \u001b[38;5;167;01mValueError\u001b[39;00m(json_response[\u001b[38;5;124m\"\u001b[39m\u001b[38;5;124mInformation\u001b[39m\u001b[38;5;124m\"\u001b[39m])\n\u001b[1;32m    362\u001b[0m \u001b[38;5;28;01melif\u001b[39;00m \u001b[38;5;124m\"\u001b[39m\u001b[38;5;124mNote\u001b[39m\u001b[38;5;124m\"\u001b[39m \u001b[38;5;129;01min\u001b[39;00m json_response \u001b[38;5;129;01mand\u001b[39;00m \u001b[38;5;28mself\u001b[39m\u001b[38;5;241m.\u001b[39mtreat_info_as_error:\n\u001b[1;32m    363\u001b[0m     \u001b[38;5;28;01mraise\u001b[39;00m \u001b[38;5;167;01mValueError\u001b[39;00m(json_response[\u001b[38;5;124m\"\u001b[39m\u001b[38;5;124mNote\u001b[39m\u001b[38;5;124m\"\u001b[39m])\n",
      "\u001b[0;31mValueError\u001b[0m: Thank you for using Alpha Vantage! This is a premium endpoint. You may subscribe to any of the premium plans at https://www.alphavantage.co/premium/ to instantly unlock all premium endpoints"
     ]
    }
   ],
   "source": [
    "from alpha_vantage.foreignexchange import ForeignExchange\n",
    "import pandas as pd\n",
    "\n",
    "api_key = 'W5MP9E5W5I1ZD9E4'\n",
    "fx = ForeignExchange(key=api_key)\n",
    "\n",
    "# Lấy dữ liệu lịch sử\n",
    "data, _ = fx.get_currency_exchange_intraday(from_symbol='EUR', to_symbol='USD', interval='60min', outputsize='full')\n",
    "\n",
    "# Chuyển đổi dữ liệu thành DataFrame\n",
    "df = pd.DataFrame.from_dict(data, orient='index')\n",
    "df.index = pd.to_datetime(df.index)\n",
    "df = df.astype(float)\n",
    "print(df.head())"
   ]
  },
  {
   "cell_type": "code",
   "execution_count": 3,
   "id": "ca3937df",
   "metadata": {},
   "outputs": [
    {
     "name": "stdout",
     "output_type": "stream",
     "text": [
      "                        open     high      low    close  volume\n",
      "datetime                                                       \n",
      "2024-01-01 17:00:00  1.10427  1.10429  1.10425  1.10429       0\n",
      "2024-01-01 17:01:00  1.10429  1.10429  1.10429  1.10429       0\n",
      "2024-01-01 17:02:00  1.10429  1.10429  1.10429  1.10429       0\n",
      "2024-01-01 17:03:00  1.10429  1.10429  1.10426  1.10426       0\n",
      "2024-01-01 17:04:00  1.10426  1.10431  1.10424  1.10425       0\n",
      "Dữ liệu OHLC đã được lưu vào ./download/EU/ohlc_data.csv\n"
     ]
    }
   ],
   "source": [
    "import pandas as pd\n",
    "\n",
    "# Đọc dữ liệu từ tệp CSV\n",
    "file_path = './download/EU/DAT_MT_EURUSD_M1_202401.csv'\n",
    "data = pd.read_csv(file_path)\n",
    "\n",
    "# Hiển thị các cột của dữ liệu để kiểm tra\n",
    "data.columns\n",
    "# Đặt tên lại các cột\n",
    "data.columns = ['date', 'time', 'open', 'high', 'low', 'close', 'volume']\n",
    "\n",
    "# Kết hợp cột ngày và giờ thành cột datetime\n",
    "data['datetime'] = pd.to_datetime(data['date'] + ' ' + data['time'], format='%Y.%m.%d %H:%M')\n",
    "\n",
    "# Đặt cột datetime làm chỉ số\n",
    "data.set_index('datetime', inplace=True)\n",
    "\n",
    "# Chọn các cột cần thiết và chuyển đổi thành dạng số\n",
    "data = data[['open', 'high', 'low', 'close', 'volume']].apply(pd.to_numeric)\n",
    "\n",
    "# Resample dữ liệu thành dạng OHLC theo phút\n",
    "ohlc_data = data.resample('T').agg({'open': 'first', 'high': 'max', 'low': 'min', 'close': 'last', 'volume': 'sum'})\n",
    "\n",
    "# Hiển thị dữ liệu OHLC\n",
    "print(ohlc_data.head())\n",
    "\n",
    "# Lưu dữ liệu OHLC vào tệp CSV mới\n",
    "output_file_path = './download/EU/ohlc_data.csv'\n",
    "ohlc_data.to_csv(output_file_path)\n",
    "\n",
    "print(f\"Dữ liệu OHLC đã được lưu vào {output_file_path}\")\n",
    "\n"
   ]
  },
  {
   "cell_type": "code",
   "execution_count": 20,
   "id": "ae8397d4",
   "metadata": {},
   "outputs": [
    {
     "name": "stdout",
     "output_type": "stream",
     "text": [
      "                        open     high      low    close  volume  rsi  stoch_k  \\\n",
      "datetime                                                                        \n",
      "2024-01-01 17:00:00  1.10427  1.10429  1.10425  1.10429       0  NaN      NaN   \n",
      "2024-01-01 17:01:00  1.10429  1.10429  1.10429  1.10429       0  NaN      NaN   \n",
      "2024-01-01 17:02:00  1.10429  1.10429  1.10429  1.10429       0  NaN      NaN   \n",
      "2024-01-01 17:03:00  1.10429  1.10429  1.10426  1.10426       0  NaN      NaN   \n",
      "2024-01-01 17:04:00  1.10426  1.10431  1.10424  1.10425       0  NaN      NaN   \n",
      "\n",
      "                     stoch_d  adx  +di  -di   doji  \n",
      "datetime                                            \n",
      "2024-01-01 17:00:00      NaN  0.0  0.0  0.0  False  \n",
      "2024-01-01 17:01:00      NaN  0.0  0.0  0.0   True  \n",
      "2024-01-01 17:02:00      NaN  0.0  0.0  0.0   True  \n",
      "2024-01-01 17:03:00      NaN  0.0  0.0  0.0  False  \n",
      "2024-01-01 17:04:00      NaN  0.0  0.0  0.0  False  \n",
      "Dữ liệu đã được làm sạch và lưu vào tệp ./download/EU/output-after-calculate.csv\n"
     ]
    }
   ],
   "source": [
    "import pandas as pd\n",
    "import ta\n",
    "\n",
    "# Đọc dữ liệu từ tệp CSV\n",
    "file_path = './download/EU/cleaned_ohlc_data.csv'\n",
    "data = pd.read_csv(file_path)\n",
    "\n",
    "# Đặt tên lại các cột\n",
    "data.columns = ['datetime', 'open', 'high', 'low', 'close', 'volume']\n",
    "\n",
    "# Kết hợp cột ngày và giờ thành cột datetime\n",
    "data['datetime'] = pd.to_datetime(data['datetime'] , format='%Y-%m-%d %H:%M:%S')\n",
    "\n",
    "# Đặt cột datetime làm chỉ số\n",
    "data.set_index('datetime', inplace=True)\n",
    "\n",
    "# Chọn các cột cần thiết và chuyển đổi thành dạng số\n",
    "data = data[['open', 'high', 'low', 'close', 'volume']].apply(pd.to_numeric)\n",
    "\n",
    "# Loại bỏ các hàng có giá trị bị thiếu\n",
    "data.dropna(inplace=True)\n",
    "\n",
    "# Resample dữ liệu thành dạng OHLC theo phút\n",
    "ohlc_data = data.resample('T').agg({'open': 'first', 'high': 'max', 'low': 'min', 'close': 'last', 'volume': 'sum'})\n",
    "\n",
    "# Loại bỏ các hàng có giá trị bị thiếu sau khi resample\n",
    "ohlc_data.dropna(inplace=True)\n",
    "\n",
    "# Tính toán RSI\n",
    "ohlc_data['rsi'] = ta.momentum.RSIIndicator(close=ohlc_data['close'], window=14).rsi()\n",
    "\n",
    "# Tính toán Stochastic Oscillator\n",
    "stoch = ta.momentum.StochasticOscillator(\n",
    "    high=ohlc_data['high'], low=ohlc_data['low'], close=ohlc_data['close'], window=14, smooth_window=3)\n",
    "ohlc_data['stoch_k'] = stoch.stoch()\n",
    "ohlc_data['stoch_d'] = stoch.stoch_signal()\n",
    "\n",
    "# Tính toán ADX và +DI\n",
    "adx = ta.trend.ADXIndicator(\n",
    "    high=ohlc_data['high'], low=ohlc_data['low'], close=ohlc_data['close'], window=14)\n",
    "ohlc_data['adx'] = adx.adx()\n",
    "ohlc_data['+di'] = adx.adx_pos()\n",
    "ohlc_data['-di'] = adx.adx_neg()\n",
    "\n",
    "# Xác định nến Doji\n",
    "def is_doji(row, threshold=0.1):\n",
    "    body = abs(row['close'] - row['open'])\n",
    "    range = row['high'] - row['low']\n",
    "    return body <= threshold * range\n",
    "\n",
    "ohlc_data['doji'] = ohlc_data.apply(is_doji, axis=1)\n",
    "\n",
    "# Hiển thị dữ liệu với các chỉ báo\n",
    "print(ohlc_data.head())\n",
    "\n",
    "# Lưu dữ liệu với các chỉ báo vào tệp CSV mới\n",
    "output_file_with_indicators = './download/EU/output-after-calculate.csv'\n",
    "ohlc_data.to_csv(output_file_with_indicators)\n",
    "\n",
    "print(f'Dữ liệu đã được làm sạch và lưu vào tệp {output_file_with_indicators}')\n"
   ]
  },
  {
   "cell_type": "code",
   "execution_count": 19,
   "id": "b6b5fd94",
   "metadata": {},
   "outputs": [
    {
     "data": {
      "text/plain": [
       "Timestamp('2024-01-01 17:00:00')"
      ]
     },
     "execution_count": 19,
     "metadata": {},
     "output_type": "execute_result"
    }
   ],
   "source": [
    "pd.to_datetime('2024-01-01 17:00:00' , format='%Y-%m-%d %H:%M:%S')"
   ]
  },
  {
   "cell_type": "code",
   "execution_count": 8,
   "id": "8fc6324f",
   "metadata": {},
   "outputs": [
    {
     "data": {
      "text/plain": [
       "'./download/EU/cleaned_ohlc_data.csv'"
      ]
     },
     "execution_count": 8,
     "metadata": {},
     "output_type": "execute_result"
    }
   ],
   "source": [
    "# clean data and save to new file\n",
    "import pandas as pd\n",
    "import ta\n",
    "\n",
    "# Đọc dữ liệu từ tệp CSV\n",
    "file_path = './download/EU/DAT_MT_EURUSD_M1_202401.csv'\n",
    "data = pd.read_csv(file_path)\n",
    "\n",
    "# Đặt tên lại các cột\n",
    "data.columns = ['date', 'time', 'open', 'high', 'low', 'close', 'volume']\n",
    "\n",
    "# Kết hợp cột ngày và giờ thành cột datetime\n",
    "data['datetime'] = pd.to_datetime(data['date'] + ' ' + data['time'], format='%Y.%m.%d %H:%M')\n",
    "\n",
    "# Đặt cột datetime làm chỉ số\n",
    "data.set_index('datetime', inplace=True)\n",
    "\n",
    "# Chọn các cột cần thiết và chuyển đổi thành dạng số\n",
    "data = data[['open', 'high', 'low', 'close', 'volume']].apply(pd.to_numeric)\n",
    "\n",
    "# Loại bỏ các hàng có giá trị bị thiếu\n",
    "data.dropna(inplace=True)\n",
    "\n",
    "# Resample dữ liệu thành dạng OHLC theo phút\n",
    "ohlc_data = data.resample('T').agg({'open': 'first', 'high': 'max', 'low': 'min', 'close': 'last', 'volume': 'sum'})\n",
    "\n",
    "# Loại bỏ các hàng có giá trị bị thiếu sau khi resample\n",
    "ohlc_data.dropna(inplace=True)\n",
    "\n",
    "# Lưu dữ liệu OHLC sạch vào tệp CSV mới\n",
    "cleaned_ohlc_file_path = './download/EU/cleaned_ohlc_data.csv'\n",
    "ohlc_data.to_csv(cleaned_ohlc_file_path)\n",
    "\n",
    "cleaned_ohlc_file_path\n"
   ]
  }
 ],
 "metadata": {
  "kernelspec": {
   "display_name": "Python 3 (ipykernel)",
   "language": "python",
   "name": "python3"
  },
  "language_info": {
   "codemirror_mode": {
    "name": "ipython",
    "version": 3
   },
   "file_extension": ".py",
   "mimetype": "text/x-python",
   "name": "python",
   "nbconvert_exporter": "python",
   "pygments_lexer": "ipython3",
   "version": "3.11.4"
  }
 },
 "nbformat": 4,
 "nbformat_minor": 5
}
